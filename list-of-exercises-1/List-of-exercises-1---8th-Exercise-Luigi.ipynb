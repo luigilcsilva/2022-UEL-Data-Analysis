{
 "cells": [
  {
   "cell_type": "markdown",
   "id": "96a5e478",
   "metadata": {},
   "source": [
    "# List of Exercises 1 - Exercise 8"
   ]
  },
  {
   "cell_type": "markdown",
   "id": "86c93f08",
   "metadata": {},
   "source": [
    "*Student: Luigi Lucas de Carvalho Silva / luigi.lcsilva@gmail.com*"
   ]
  },
  {
   "cell_type": "markdown",
   "id": "ccad0d5c",
   "metadata": {},
   "source": [
    "Let us begin with the binormal Gaussian, \n",
    "$\\begin{equation} P(x,y) = \\frac{1}{2 \\pi \\sigma_x \\sigma_y \\sqrt{(1-\\rho^2)}}exp \\left\\{-\\frac{1}{2(1-\\rho^2)} \\left [ \\left ( \\frac{x-\\mu_x}{\\sigma_x} \\right )^2 + \\left ( \\frac{y-\\mu_y}{\\sigma_y} \\right )^2 - 2 \\rho \\left ( \\frac{x-\\mu_x}{\\sigma_x} \\right ) \\left ( \\frac{y-\\mu_y}{\\sigma_y} \\right ) \\right ] \\right\\}  \\end{equation}$."
   ]
  },
  {
   "cell_type": "markdown",
   "id": "eb47ce83",
   "metadata": {},
   "source": [
    "The first substitution we can do is $\\begin{equation} x' = \\frac{1}{\\sqrt{(1-\\rho^2)}} \\left ( \\frac{x-\\mu_x}{\\sigma_x} \\right ) \\end{equation}$ and $\\begin{equation} y' = \\frac{1}{\\sqrt{(1-\\rho^2)}} \\left ( \\frac{y-\\mu_y}{\\sigma_y} \\right ) \\end{equation}$."
   ]
  },
  {
   "cell_type": "markdown",
   "id": "0ed3030a",
   "metadata": {},
   "source": [
    "With this, we have $\\begin{equation} P(x', y') = \\frac{1}{2 \\pi \\sigma_x \\sigma_y \\sqrt{(1-\\rho^2)}} exp \\left\\{ -\\frac{1}{2} \\chi^2 \\right\\} \\end{equation}$, where $\\begin{equation} \\chi^2 = x'^2 + y'^2 - 2\\rho x' y' \\end{equation}$."
   ]
  },
  {
   "cell_type": "markdown",
   "id": "e1e03095",
   "metadata": {},
   "source": [
    "The equation for $\\chi^2$ is a conic equation. It may be written in the form $\\begin{equation} \\begin{bmatrix} x' & y' \\\\ \\end{bmatrix} \\begin{bmatrix} 1 & -\\rho  \\\\ -\\rho & 1 \\\\ \\end{bmatrix} \\begin{bmatrix} x' \\\\ y' \\end{bmatrix} - \\chi^2 = 0\\end{equation}$"
   ]
  },
  {
   "cell_type": "markdown",
   "id": "a25b8461",
   "metadata": {},
   "source": [
    "If we diagonalize the above matrix (this is done to get rid of the cross term), we are led to the substitutions $\\begin{equation} x' = \\frac{\\sqrt{2}}{2} x_1 - \\frac{\\sqrt{2}}{2} y_1 \\end{equation}$ and $\\begin{equation} y' = \\frac{\\sqrt{2}}{2} x_1 + \\frac{\\sqrt{2}}{2} y_1 \\end{equation}$."
   ]
  },
  {
   "cell_type": "markdown",
   "id": "6a146d72",
   "metadata": {},
   "source": [
    "Putting these new substitutions in the equation for $\\chi^2$, we have $\\chi^2 = (1-\\rho)x_1^2 + (1+\\rho) y_1^2$."
   ]
  },
  {
   "cell_type": "markdown",
   "id": "a6785759",
   "metadata": {},
   "source": [
    "We can, then, make a new substitution, that is, $k_1 = \\sqrt{(1-\\rho)} x_1$ and $k_2 = \\sqrt{(1+\\rho)}y_1$. With that, we have $\\chi^2 = k_1^2 + k_2^2$."
   ]
  },
  {
   "cell_type": "markdown",
   "id": "757b7bb6",
   "metadata": {},
   "source": [
    "For doing an integration, we must consider the Jacobian. The determinant of the Jacobian, considering the relation between the original variables, x and y, and the last ones, $k_1$ and $k_2$, is given by $|J| = \\sqrt{(1-\\rho^2)}\\sigma_x \\sigma_y$. This cancels out all the constants in the binormal Gaussian, except the $\\frac{1}{2\\pi}$."
   ]
  },
  {
   "cell_type": "markdown",
   "id": "a421fb66",
   "metadata": {},
   "source": [
    "So, until now, we have $P(n\\sigma) = \\frac{1}{2\\pi} \\int_{\\Omega_n} e^{-\\frac{1}{2}(k_1^2+k_2^2)} dk_1 dk_2$."
   ]
  },
  {
   "cell_type": "markdown",
   "id": "5cd0e87a",
   "metadata": {},
   "source": [
    "The last substitution we may do is a trigonometric one, $k_1 = \\chi cos(\\theta)$ and $k_2 = \\chi sen(\\theta)$. Integrating from $\\theta = 0$ to $\\theta = 2 \\pi$ and from $\\chi = 0$ to $\\chi = n$, we have the final result $P(n\\sigma) = 1 - e^{-\\frac{n^2}{2}}$. This is the same result of the last exercise. "
   ]
  },
  {
   "cell_type": "code",
   "execution_count": 1,
   "id": "7cf4a763",
   "metadata": {},
   "outputs": [],
   "source": [
    "import numpy as np\n",
    "import matplotlib as mpl\n",
    "import matplotlib.pyplot as plt\n",
    "%matplotlib inline\n",
    "import pandas as pd\n",
    "import os\n",
    "import scipy.integrate as integrate\n",
    "import scipy.special as special\n",
    "import scipy.interpolate as interpolate\n",
    "import scipy.stats as stats"
   ]
  },
  {
   "cell_type": "code",
   "execution_count": 2,
   "id": "91b305b3",
   "metadata": {},
   "outputs": [
    {
     "name": "stdout",
     "output_type": "stream",
     "text": [
      "P(1σ) = 0.3934693402873666\n",
      "P(2σ) = 0.8646647167633873\n",
      "P(3σ) = 0.9888910034617577\n"
     ]
    }
   ],
   "source": [
    "n_all = [1, 2, 3]\n",
    "\n",
    "for i in n_all:\n",
    "    P_nsig = 1 - np.exp(-i**2/2)\n",
    "    \n",
    "    print('P('+str(i)+'\\u03C3) = '+str(P_nsig))"
   ]
  }
 ],
 "metadata": {
  "kernelspec": {
   "display_name": "Python 3 (ipykernel)",
   "language": "python",
   "name": "python3"
  },
  "language_info": {
   "codemirror_mode": {
    "name": "ipython",
    "version": 3
   },
   "file_extension": ".py",
   "mimetype": "text/x-python",
   "name": "python",
   "nbconvert_exporter": "python",
   "pygments_lexer": "ipython3",
   "version": "3.8.10"
  }
 },
 "nbformat": 4,
 "nbformat_minor": 5
}
