{
 "cells": [
  {
   "cell_type": "markdown",
   "id": "4c9e05cb",
   "metadata": {},
   "source": [
    "# List of Exercises 1 - Exercise 2"
   ]
  },
  {
   "cell_type": "markdown",
   "id": "20848eb9",
   "metadata": {},
   "source": [
    "*Student: Luigi Lucas de Carvalho Silva / luigi.lcsilva@gmail.com*"
   ]
  },
  {
   "cell_type": "markdown",
   "id": "a50b2a9b",
   "metadata": {},
   "source": [
    "First of all, let us import some useful packages."
   ]
  },
  {
   "cell_type": "code",
   "execution_count": 1,
   "id": "6ed7fbfa",
   "metadata": {},
   "outputs": [],
   "source": [
    "import numpy as np\n",
    "import matplotlib as mpl\n",
    "import matplotlib.pyplot as plt\n",
    "%matplotlib inline\n",
    "import pandas as pd\n",
    "import os\n",
    "import scipy.integrate as integrate\n",
    "import scipy.special as special\n",
    "import scipy.interpolate as interpolate\n",
    "from scipy.stats import norm"
   ]
  },
  {
   "cell_type": "markdown",
   "id": "8382df70",
   "metadata": {},
   "source": [
    "Defining the gaussian function."
   ]
  },
  {
   "cell_type": "code",
   "execution_count": 2,
   "id": "b65876ef",
   "metadata": {},
   "outputs": [],
   "source": [
    "### Gaussian distribution definition.\n",
    "def gaussian(x, mu, sigma):\n",
    "    g = (1/(np.sqrt(2*np.pi)*sigma))*np.exp(-(x-mu)**2/(2*sigma**2)) \n",
    "    return g"
   ]
  },
  {
   "cell_type": "markdown",
   "id": "e50e89a7",
   "metadata": {},
   "source": [
    "Defining the gaussian CDF."
   ]
  },
  {
   "cell_type": "code",
   "execution_count": 3,
   "id": "f573d66d",
   "metadata": {},
   "outputs": [],
   "source": [
    "### \"Exact\" gaussian CDF function definition.\n",
    "def gaussian_cdf(x, mu, sigma):\n",
    "    cdf = (special.erf((x-mu)/(np.sqrt(2)*sigma)) + 1)/2 \n",
    "    return cdf"
   ]
  },
  {
   "cell_type": "markdown",
   "id": "d0bec996",
   "metadata": {},
   "source": [
    "Defining common parameters for the distribution."
   ]
  },
  {
   "cell_type": "code",
   "execution_count": 4,
   "id": "fcc1f5bb",
   "metadata": {},
   "outputs": [],
   "source": [
    "### Common parameters for the gaussian.\n",
    "mu_gauss = 0\n",
    "sigma_gauss = 1"
   ]
  },
  {
   "cell_type": "markdown",
   "id": "3c2be645",
   "metadata": {},
   "source": [
    "**Let us compute the mean and the variance for N=10 and t=1000.**"
   ]
  },
  {
   "cell_type": "markdown",
   "id": "7385dda9",
   "metadata": {},
   "source": [
    "First of all, let us obtain the inverse CDF of the gaussian function."
   ]
  },
  {
   "cell_type": "code",
   "execution_count": 5,
   "id": "a427a510",
   "metadata": {},
   "outputs": [],
   "source": [
    "### Points for interpolation. Here I get x points that are inside some sigmas around the mean.\n",
    "n_sigma_gauss = 6\n",
    "step_gauss = 2*n_sigma_gauss*sigma_gauss/(10**(n_sigma_gauss-1))\n",
    "x_min_gauss = mu_gauss-n_sigma_gauss*sigma_gauss\n",
    "x_max_gauss = mu_gauss+n_sigma_gauss*sigma_gauss\n",
    "\n",
    "x_values_gauss = np.arange(x_min_gauss, x_max_gauss, step_gauss)\n",
    "cdf_values_gauss = gaussian_cdf(x_values_gauss, mu_gauss, sigma_gauss)\n",
    "\n",
    "### Defining the inverse CDF from a cubic interpolation using scipy.interpolate:\n",
    "scipy_inverse_gauss_cdf = interpolate.interp1d(cdf_values_gauss, x_values_gauss, kind='cubic')"
   ]
  },
  {
   "cell_type": "markdown",
   "id": "e9b0690d",
   "metadata": {},
   "source": [
    "Now, let us save in a dataframe the random numbers for each time."
   ]
  },
  {
   "cell_type": "code",
   "execution_count": 6,
   "id": "cc084bb1",
   "metadata": {},
   "outputs": [],
   "source": [
    "times = np.arange(1,1001,1)\n",
    "\n",
    "df_gauss = pd.DataFrame()\n",
    "\n",
    "### Making a loop.\n",
    "for i in times:\n",
    "    ### Seed for the random numbers (comment this for not getting fixed random numbers).\n",
    "    np.random.seed(seed=i)\n",
    "    \n",
    "    ### Defining the name of each column as the time.\n",
    "    time = \"t=\"+str(i)\n",
    "    \n",
    "    ### Generating a uniform random sample for each time.\n",
    "    unif_rnd_gauss = np.random.random_sample(size=10)\n",
    "\n",
    "    ### Gaussian distribution random sample.\n",
    "    random = scipy_inverse_gauss_cdf(unif_rnd_gauss)\n",
    "\n",
    "    ### Defining \"data\" as a dict containing the time and the random sample.\n",
    "    data = {time: random}\n",
    "    \n",
    "    ### Defining a new dataframe with the data.\n",
    "    df_data = pd.DataFrame(data=data)\n",
    "    \n",
    "    ### Concatening this dataframe with the main one.\n",
    "    df_gauss = pd.concat((df_gauss,df_data),axis=1)"
   ]
  },
  {
   "cell_type": "markdown",
   "id": "0a44b0e4",
   "metadata": {},
   "source": [
    "Now, let us compute the mean and the variance for each time."
   ]
  },
  {
   "cell_type": "code",
   "execution_count": 7,
   "id": "4edf3313",
   "metadata": {},
   "outputs": [],
   "source": [
    "### Computing the means for each time.\n",
    "means = df_gauss.mean(axis=0)\n",
    "\n",
    "### Computing the variances for each time. ddof is to normalize by N, instead of N-1.\n",
    "variances = df_gauss.var(axis=0, ddof=0)"
   ]
  },
  {
   "cell_type": "markdown",
   "id": "f88a6a58",
   "metadata": {},
   "source": [
    "Now, let us compute the cumsum of \"means\" and \"variances\"."
   ]
  },
  {
   "cell_type": "code",
   "execution_count": 8,
   "id": "e26a239b",
   "metadata": {},
   "outputs": [],
   "source": [
    "means_cumsum = means.cumsum()\n",
    "variances_cumsum = variances.cumsum()"
   ]
  },
  {
   "cell_type": "markdown",
   "id": "3049896a",
   "metadata": {},
   "source": [
    "Finally, let us divide these arrays by \"times\" (this is equivalent to obtaining the mean of \"means\" and \"variances\" computed until the time considered)."
   ]
  },
  {
   "cell_type": "code",
   "execution_count": 9,
   "id": "a4c9f0fd",
   "metadata": {},
   "outputs": [],
   "source": [
    "means_cumsum_mean = means_cumsum/times\n",
    "variances_cumsum_mean = variances_cumsum/times"
   ]
  },
  {
   "cell_type": "markdown",
   "id": "07f24835",
   "metadata": {},
   "source": [
    "Now, let us plot these data as a function of t."
   ]
  },
  {
   "cell_type": "code",
   "execution_count": 10,
   "id": "e961d3b4",
   "metadata": {},
   "outputs": [
    {
     "data": {
      "image/png": "[encoded data removed]",
      "text/plain": [
       "<Figure size 1080x360 with 2 Axes>"
      ]
     },
     "metadata": {
      "needs_background": "light"
     },
     "output_type": "display_data"
    }
   ],
   "source": [
    "### Defining the figure and axis.\n",
    "figure, axis = plt.subplots(1, 2, figsize=(15,5))\n",
    "\n",
    "#########################\n",
    "### FIRST PLOT ###\n",
    "axis[0].plot(times, means_cumsum_mean)\n",
    "axis[0].set_title('Mean of the means computed until each time')\n",
    "axis[0].set_xlabel('Time')\n",
    "axis[0].set_ylabel('Mean of the means computed until each time')\n",
    "#axis[0].set_ylim(-0.1, 2)\n",
    "\n",
    "#########################\n",
    "### SECOND PLOT ###\n",
    "axis[1].plot(times, variances_cumsum_mean)\n",
    "axis[1].set_title('Mean of the variances computed until each time')\n",
    "axis[1].set_xlabel('Time')\n",
    "axis[1].set_ylabel('Mean of the variances computed until each time')\n",
    "#axis[1].set_ylim(-0.1, 2)\n",
    "\n",
    "plt.show()"
   ]
  },
  {
   "cell_type": "code",
   "execution_count": 11,
   "id": "acb9d690",
   "metadata": {},
   "outputs": [
    {
     "name": "stdout",
     "output_type": "stream",
     "text": [
      "Last mean of the means (t=1000) = -0.004769052375312163\n",
      "Last mean of the variances (t=1000) = 0.8951543331021059\n"
     ]
    }
   ],
   "source": [
    "### Printing the last computed means.\n",
    "print(\"Last mean of the means (t=1000) = \"+str(means_cumsum_mean[999]))\n",
    "print(\"Last mean of the variances (t=1000) = \"+str(variances_cumsum_mean[999]))"
   ]
  },
  {
   "cell_type": "markdown",
   "id": "2d0a7018",
   "metadata": {},
   "source": [
    "So, as it is possible to see, both the mean of the means and the mean of the variances approach the expected values of 0 and 1, but the mean of the means is closer to the expected value than the mean of the variances at the end."
   ]
  }
 ],
 "metadata": {
  "kernelspec": {
   "display_name": "Python 3 (ipykernel)",
   "language": "python",
   "name": "python3"
  },
  "language_info": {
   "codemirror_mode": {
    "name": "ipython",
    "version": 3
   },
   "file_extension": ".py",
   "mimetype": "text/x-python",
   "name": "python",
   "nbconvert_exporter": "python",
   "pygments_lexer": "ipython3",
   "version": "3.8.10"
  }
 },
 "nbformat": 4,
 "nbformat_minor": 5
}
