{
 "cells": [
  {
   "cell_type": "markdown",
   "id": "e3f95bb0",
   "metadata": {},
   "source": [
    "# List of Exercises 1 - Exercise 3"
   ]
  },
  {
   "cell_type": "markdown",
   "id": "6d6907c0",
   "metadata": {},
   "source": [
    "*Student: Luigi Lucas de Carvalho Silva / luigi.lcsilva@gmail.com*"
   ]
  },
  {
   "cell_type": "markdown",
   "id": "1ac99826",
   "metadata": {},
   "source": [
    "First of all, let us import some useful packages."
   ]
  },
  {
   "cell_type": "code",
   "execution_count": 1,
   "id": "4be1d492",
   "metadata": {},
   "outputs": [],
   "source": [
    "import numpy as np\n",
    "import matplotlib as mpl\n",
    "import matplotlib.pyplot as plt\n",
    "%matplotlib inline\n",
    "import pandas as pd\n",
    "import os\n",
    "import scipy.integrate as integrate\n",
    "import scipy.special as special\n",
    "import scipy.interpolate as interpolate\n",
    "import scipy.stats as stats"
   ]
  },
  {
   "cell_type": "markdown",
   "id": "c363ab19",
   "metadata": {},
   "source": [
    "Defining the third distribution of the first exercise."
   ]
  },
  {
   "cell_type": "code",
   "execution_count": 2,
   "id": "48dded5f",
   "metadata": {},
   "outputs": [],
   "source": [
    "### Definition of the third distribution of the first exercise.\n",
    "def exerc1_distrib3(x, x_0, sigma):\n",
    "    y = (1/(np.sqrt(2*np.pi)*sigma))*(np.exp(-(x-x_0)**2/(2*sigma**2)) - np.exp(-(x+x_0)**2/(2*sigma**2)))*(1/special.erf(x_0/(np.sqrt(2)*sigma)))\n",
    "    return y"
   ]
  },
  {
   "cell_type": "markdown",
   "id": "f74f35be",
   "metadata": {},
   "source": [
    "Defining common parameters for the distribution."
   ]
  },
  {
   "cell_type": "code",
   "execution_count": 3,
   "id": "594a9bbd",
   "metadata": {},
   "outputs": [],
   "source": [
    "### Common parameters for the third distribution.\n",
    "x_0 = 10\n",
    "sigma_third = 5"
   ]
  },
  {
   "cell_type": "markdown",
   "id": "eeb36519",
   "metadata": {},
   "source": [
    "Defining the CDF of the third function."
   ]
  },
  {
   "cell_type": "code",
   "execution_count": 4,
   "id": "7eb26cd5",
   "metadata": {},
   "outputs": [],
   "source": [
    "### Defining the third function CDF. For this, I integrate the function in a interval around some sigmas of the\n",
    "### mean, and then I interpolate these values to generate the CDF.\n",
    "\n",
    "### Here is the x interval where I will do the integration. I am integrating regions in steps of \"step\",\n",
    "### because I will make a \"cumsum()\" in the integrals array for obtaining the values of the CDF.\n",
    "sigma = sigma_third\n",
    "n_sigma = 8                                    #Numbers of sigma for the interpolation to include.\n",
    "interval_division = 200000            #Number of divisions of the total region.\n",
    "step = 2*n_sigma*sigma/interval_division\n",
    "### I take care here for not taking negative values in the integration limits.\n",
    "if (x_0-n_sigma*sigma)>0:\n",
    "    x_comp = np.arange(x_0-n_sigma*sigma, x_0+n_sigma*sigma+step, step)\n",
    "else:\n",
    "    x_comp = np.arange(0, x_0+n_sigma*sigma+step, step)\n",
    "        \n",
    "### Now, I do the integration in each region and apply the \"cumsum()\".\n",
    "y_cdf = np.array([tup[0] for tup in [integrate.quad(exerc1_distrib3, a, b, args=(x_0, sigma))\n",
    "                                     for a, b in [(a, b) for a, b in zip(x_comp, x_comp[1:len(x_comp)])]]]\n",
    "                                     + [0]).cumsum()\n",
    "\n",
    "### Finally, I obtain the interpolated function. I exclude the last point because it usually leads to\n",
    "### problems (I think it has to do with the integration limits definition).\n",
    "scipy_exerc1_distrib3_cdf = interpolate.interp1d(x_comp[0:-1], y_cdf[0:-1], kind='linear')"
   ]
  },
  {
   "cell_type": "markdown",
   "id": "952c263b",
   "metadata": {},
   "source": [
    "Defining the inverse CDF for the third distribution."
   ]
  },
  {
   "cell_type": "code",
   "execution_count": 5,
   "id": "a58e1ba6",
   "metadata": {},
   "outputs": [],
   "source": [
    "### Points for interpolation. Here I get x points that are inside n_sigma*sigma around the mean.\n",
    "n_sigma_third = 8\n",
    "step_third = 2*n_sigma_third*sigma_third/200000\n",
    "\n",
    "if x_0-n_sigma_third*sigma_third>0:\n",
    "    x_min_third = x_0-n_sigma_third*sigma_third\n",
    "    x_max_third = x_0+n_sigma_third*sigma_third\n",
    "else:\n",
    "    x_min_third = 0\n",
    "    x_max_third = x_0+n_sigma_third*sigma_third\n",
    "\n",
    "x_values_third = np.arange(x_min_third, x_max_third, step_third)\n",
    "cdf_values_third = scipy_exerc1_distrib3_cdf(x_values_third)\n",
    "\n",
    "### Defining the inverse CDF from a cubic interpolation using scipy.interpolate:\n",
    "scipy_exerc1_distrib3_inv_cdf = interpolate.interp1d(cdf_values_third, x_values_third, kind='linear')"
   ]
  },
  {
   "cell_type": "markdown",
   "id": "c896c362",
   "metadata": {},
   "source": [
    "Defining some estimators."
   ]
  },
  {
   "cell_type": "code",
   "execution_count": 6,
   "id": "7f44d5b0",
   "metadata": {},
   "outputs": [],
   "source": [
    "def mean_est(x):\n",
    "    'x must be an array with more than 1 number.'\n",
    "    mean = x.sum()/len(x)\n",
    "    return mean\n",
    "\n",
    "def var_est(x, mean):\n",
    "    'x must be an array with more than 1 number.'\n",
    "    var = ((x-mean)**2).sum()/len(x)\n",
    "    return var\n",
    "\n",
    "def skew_est(x, mean, var):\n",
    "    'x must be an array with more than 1 number.'\n",
    "    skew = (1/(len(x)*var**(3/2)))*((x-mean)**3).sum()\n",
    "    return skew\n",
    "\n",
    "def curtosis_est(x, mean, var):\n",
    "    'x must be an array with more than 1 number.'\n",
    "    curtosis = (1/(len(x)*var**2))*((x-mean)**4).sum() - 3\n",
    "    return curtosis"
   ]
  },
  {
   "cell_type": "markdown",
   "id": "b7cfd705",
   "metadata": {},
   "source": [
    "### Generating random numbers for different N"
   ]
  },
  {
   "cell_type": "code",
   "execution_count": 7,
   "id": "b5f5a5c6",
   "metadata": {},
   "outputs": [],
   "source": [
    "rnd_quantities = np.arange(80000000, 120000000, 5000000)\n",
    "\n",
    "mean_third = []\n",
    "var_third = []\n",
    "skew_third = []\n",
    "curtosis_third = []\n",
    "\n",
    "j=1\n",
    "for i in rnd_quantities:\n",
    "    ### Seed for the random numbers (comment this for not getting fixed random numbers).\n",
    "    np.random.seed(seed=j)\n",
    "    \n",
    "    ### Generating a uniform random sample for each size.\n",
    "    unif_rnd_third = np.random.random_sample(size=i)\n",
    "\n",
    "    ### Third distribution random sample.\n",
    "    x = scipy_exerc1_distrib3_inv_cdf(unif_rnd_third)\n",
    "    \n",
    "    ### Estimating the mean.\n",
    "    mean_x = mean_est(x)\n",
    "    mean_third.append(mean_x)\n",
    "    \n",
    "    ### Estimating the variance.\n",
    "    var_x = var_est(x, mean_x)\n",
    "    var_third.append(var_x)\n",
    "    \n",
    "    ### Estimating the skew.\n",
    "    skew_x = skew_est(x, mean_x, var_x)\n",
    "    skew_third.append(skew_x)\n",
    "    \n",
    "    ### Estimating the curtosis.\n",
    "    curtosis_x = curtosis_est(x, mean_x, var_x)\n",
    "    curtosis_third.append(curtosis_x)\n",
    "    \n",
    "    j+=1"
   ]
  },
  {
   "cell_type": "code",
   "execution_count": 8,
   "id": "4f3e7d3f",
   "metadata": {},
   "outputs": [],
   "source": [
    "df_stat = pd.DataFrame()\n",
    "\n",
    "### Defining new dataframes with the data.\n",
    "df_quantities = pd.DataFrame(data=rnd_quantities)\n",
    "df_mean = pd.DataFrame(data=mean_third)\n",
    "df_var = pd.DataFrame(data=var_third)\n",
    "df_skew = pd.DataFrame(data=skew_third)\n",
    "df_curtosis = pd.DataFrame(data=curtosis_third)\n",
    "   \n",
    "### Concatening these dataframes with the main one.\n",
    "df_stat = pd.concat((df_stat,df_quantities),axis=1)\n",
    "df_stat = pd.concat((df_stat,df_mean),axis=1)\n",
    "df_stat = pd.concat((df_stat,df_var),axis=1)\n",
    "df_stat = pd.concat((df_stat,df_skew),axis=1)\n",
    "df_stat = pd.concat((df_stat,df_curtosis),axis=1)\n",
    "\n",
    "df_stat.columns = ['Quantity of Numbers','Mean', 'Var', 'Skew', 'Curtosis']"
   ]
  },
  {
   "cell_type": "code",
   "execution_count": 9,
   "id": "a51f3054",
   "metadata": {},
   "outputs": [
    {
     "data": {
      "text/html": [
       "<div>\n",
       "<style scoped>\n",
       "    .dataframe tbody tr th:only-of-type {\n",
       "        vertical-align: middle;\n",
       "    }\n",
       "\n",
       "    .dataframe tbody tr th {\n",
       "        vertical-align: top;\n",
       "    }\n",
       "\n",
       "    .dataframe thead th {\n",
       "        text-align: right;\n",
       "    }\n",
       "</style>\n",
       "<table border=\"1\" class=\"dataframe\">\n",
       "  <thead>\n",
       "    <tr style=\"text-align: right;\">\n",
       "      <th></th>\n",
       "      <th>Quantity of Numbers</th>\n",
       "      <th>Mean</th>\n",
       "      <th>Var</th>\n",
       "      <th>Skew</th>\n",
       "      <th>Curtosis</th>\n",
       "    </tr>\n",
       "  </thead>\n",
       "  <tbody>\n",
       "    <tr>\n",
       "      <th>0</th>\n",
       "      <td>80000000</td>\n",
       "      <td>10.476964</td>\n",
       "      <td>20.899768</td>\n",
       "      <td>0.280295</td>\n",
       "      <td>-0.208545</td>\n",
       "    </tr>\n",
       "    <tr>\n",
       "      <th>1</th>\n",
       "      <td>85000000</td>\n",
       "      <td>10.477309</td>\n",
       "      <td>20.894873</td>\n",
       "      <td>0.279683</td>\n",
       "      <td>-0.209959</td>\n",
       "    </tr>\n",
       "    <tr>\n",
       "      <th>2</th>\n",
       "      <td>90000000</td>\n",
       "      <td>10.476786</td>\n",
       "      <td>20.894649</td>\n",
       "      <td>0.280248</td>\n",
       "      <td>-0.208917</td>\n",
       "    </tr>\n",
       "    <tr>\n",
       "      <th>3</th>\n",
       "      <td>95000000</td>\n",
       "      <td>10.476035</td>\n",
       "      <td>20.892339</td>\n",
       "      <td>0.279781</td>\n",
       "      <td>-0.209478</td>\n",
       "    </tr>\n",
       "    <tr>\n",
       "      <th>4</th>\n",
       "      <td>100000000</td>\n",
       "      <td>10.476036</td>\n",
       "      <td>20.897044</td>\n",
       "      <td>0.279877</td>\n",
       "      <td>-0.209768</td>\n",
       "    </tr>\n",
       "    <tr>\n",
       "      <th>5</th>\n",
       "      <td>105000000</td>\n",
       "      <td>10.477015</td>\n",
       "      <td>20.896736</td>\n",
       "      <td>0.279769</td>\n",
       "      <td>-0.209622</td>\n",
       "    </tr>\n",
       "    <tr>\n",
       "      <th>6</th>\n",
       "      <td>110000000</td>\n",
       "      <td>10.476189</td>\n",
       "      <td>20.892413</td>\n",
       "      <td>0.280144</td>\n",
       "      <td>-0.209158</td>\n",
       "    </tr>\n",
       "    <tr>\n",
       "      <th>7</th>\n",
       "      <td>115000000</td>\n",
       "      <td>10.476173</td>\n",
       "      <td>20.896432</td>\n",
       "      <td>0.280317</td>\n",
       "      <td>-0.208560</td>\n",
       "    </tr>\n",
       "  </tbody>\n",
       "</table>\n",
       "</div>"
      ],
      "text/plain": [
       "   Quantity of Numbers       Mean        Var      Skew  Curtosis\n",
       "0             80000000  10.476964  20.899768  0.280295 -0.208545\n",
       "1             85000000  10.477309  20.894873  0.279683 -0.209959\n",
       "2             90000000  10.476786  20.894649  0.280248 -0.208917\n",
       "3             95000000  10.476035  20.892339  0.279781 -0.209478\n",
       "4            100000000  10.476036  20.897044  0.279877 -0.209768\n",
       "5            105000000  10.477015  20.896736  0.279769 -0.209622\n",
       "6            110000000  10.476189  20.892413  0.280144 -0.209158\n",
       "7            115000000  10.476173  20.896432  0.280317 -0.208560"
      ]
     },
     "execution_count": 9,
     "metadata": {},
     "output_type": "execute_result"
    }
   ],
   "source": [
    "df_stat"
   ]
  },
  {
   "cell_type": "markdown",
   "id": "e3ff0449",
   "metadata": {},
   "source": [
    "After a lot of attempts, I would say that Skew and Curtosis are stabilized in two decimal places for something about $N\\sim10^{8}$."
   ]
  }
 ],
 "metadata": {
  "kernelspec": {
   "display_name": "Python 3 (ipykernel)",
   "language": "python",
   "name": "python3"
  },
  "language_info": {
   "codemirror_mode": {
    "name": "ipython",
    "version": 3
   },
   "file_extension": ".py",
   "mimetype": "text/x-python",
   "name": "python",
   "nbconvert_exporter": "python",
   "pygments_lexer": "ipython3",
   "version": "3.8.10"
  }
 },
 "nbformat": 4,
 "nbformat_minor": 5
}
