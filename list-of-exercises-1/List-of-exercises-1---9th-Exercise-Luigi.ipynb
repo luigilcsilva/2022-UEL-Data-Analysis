{
 "cells": [
  {
   "cell_type": "markdown",
   "id": "117ef670",
   "metadata": {},
   "source": [
    "# List of Exercises 1 - Exercise 9"
   ]
  },
  {
   "cell_type": "markdown",
   "id": "2af38620",
   "metadata": {},
   "source": [
    "*Student: Luigi Lucas de Carvalho Silva / luigi.lcsilva@gmail.com*"
   ]
  },
  {
   "cell_type": "markdown",
   "id": "8687138a",
   "metadata": {},
   "source": [
    "First of all, let us import some useful packages."
   ]
  },
  {
   "cell_type": "code",
   "execution_count": 1,
   "id": "f46842ec",
   "metadata": {},
   "outputs": [],
   "source": [
    "import numpy as np\n",
    "import matplotlib as mpl\n",
    "import matplotlib.pyplot as plt\n",
    "%matplotlib inline\n",
    "import pandas as pd\n",
    "import os\n",
    "import scipy.integrate as integrate\n",
    "import scipy.special as special\n",
    "import scipy.interpolate as interpolate\n",
    "import scipy.stats as stats"
   ]
  },
  {
   "cell_type": "markdown",
   "id": "e9341083",
   "metadata": {},
   "source": [
    "**Defining the distributions.**"
   ]
  },
  {
   "cell_type": "markdown",
   "id": "db668baa",
   "metadata": {},
   "source": [
    "Common parameters."
   ]
  },
  {
   "cell_type": "code",
   "execution_count": 2,
   "id": "2fc95ff3",
   "metadata": {},
   "outputs": [],
   "source": [
    "### Common parameters for the uniform distribution.\n",
    "initial_unif=0\n",
    "final_unif=1\n",
    "\n",
    "### Common parameters for the gaussian.\n",
    "mu_gauss = 0\n",
    "sigma_gauss = 1\n",
    "\n",
    "### Common parameters for the third distribution.\n",
    "x_0 = 10\n",
    "sigma_third = 5"
   ]
  },
  {
   "cell_type": "markdown",
   "id": "03b9aa6f",
   "metadata": {},
   "source": [
    "Uniform distribution."
   ]
  },
  {
   "cell_type": "code",
   "execution_count": 3,
   "id": "4843a72b",
   "metadata": {},
   "outputs": [],
   "source": [
    "### Definition of the uniform distribution.\n",
    "def uniform_dist(x, i, f):\n",
    "    'i and f are the beginning and the end of the interval.'\n",
    "    if i <= x <= f:\n",
    "        y = 1/(f-i)\n",
    "    else:\n",
    "        y = 0\n",
    "    return y"
   ]
  },
  {
   "cell_type": "markdown",
   "id": "8ac31b3f",
   "metadata": {},
   "source": [
    "Gaussian distribution."
   ]
  },
  {
   "cell_type": "code",
   "execution_count": 4,
   "id": "8b89d6c4",
   "metadata": {},
   "outputs": [],
   "source": [
    "### Gaussian distribution definition.\n",
    "def gaussian(x, mu, sigma):\n",
    "    g = (1/(np.sqrt(2*np.pi)*sigma))*np.exp(-(x-mu)**2/(2*sigma**2)) \n",
    "    return g"
   ]
  },
  {
   "cell_type": "markdown",
   "id": "2779cc37",
   "metadata": {},
   "source": [
    "Gaussian CDF."
   ]
  },
  {
   "cell_type": "code",
   "execution_count": 5,
   "id": "4f71d16d",
   "metadata": {},
   "outputs": [],
   "source": [
    "### \"Exact\" gaussian CDF function definition.\n",
    "def gaussian_cdf(x, mu, sigma):\n",
    "    cdf = (special.erf((x-mu)/(np.sqrt(2)*sigma)) + 1)/2 \n",
    "    return cdf"
   ]
  },
  {
   "cell_type": "markdown",
   "id": "fc20ae65",
   "metadata": {},
   "source": [
    "Gaussian inverse CDF."
   ]
  },
  {
   "cell_type": "code",
   "execution_count": 6,
   "id": "40c370fb",
   "metadata": {},
   "outputs": [],
   "source": [
    "### Points for interpolation. Here I get x points that are inside n_sigma*sigma around the mean.\n",
    "n_sigma_gauss = 8\n",
    "step_gauss = 2*n_sigma_gauss*sigma_gauss/200000\n",
    "\n",
    "x_min_gauss = mu_gauss-n_sigma_gauss*sigma_gauss\n",
    "x_max_gauss = mu_gauss+n_sigma_gauss*sigma_gauss\n",
    "\n",
    "x_values_gauss = np.arange(x_min_gauss, x_max_gauss, step_gauss)\n",
    "cdf_values_gauss = gaussian_cdf(x_values_gauss, mu_gauss, sigma_gauss)\n",
    "\n",
    "### Defining the inverse CDF from a cubic interpolation using scipy.interpolate:\n",
    "gaussian_inv_cdf = interpolate.interp1d(cdf_values_gauss, x_values_gauss, kind='linear')"
   ]
  },
  {
   "cell_type": "markdown",
   "id": "38561bee",
   "metadata": {},
   "source": [
    "Third distribution of the first exercise."
   ]
  },
  {
   "cell_type": "code",
   "execution_count": 7,
   "id": "03e5efd9",
   "metadata": {},
   "outputs": [],
   "source": [
    "### Definition of the third distribution of the first exercise.\n",
    "def exerc1_distrib3(x, x_0, sigma):\n",
    "    y = (1/(np.sqrt(2*np.pi)*sigma))*(np.exp(-(x-x_0)**2/(2*sigma**2)) - np.exp(-(x+x_0)**2/(2*sigma**2)))*(1/special.erf(x_0/(np.sqrt(2)*sigma)))\n",
    "    return y"
   ]
  },
  {
   "cell_type": "markdown",
   "id": "6128f41c",
   "metadata": {},
   "source": [
    "Third distribution CDF."
   ]
  },
  {
   "cell_type": "code",
   "execution_count": 8,
   "id": "9d7818e2",
   "metadata": {},
   "outputs": [],
   "source": [
    "### Defining the third function CDF. For this, I integrate the function in a interval around some sigmas of the\n",
    "### mean, and then I interpolate these values to generate the CDF.\n",
    "\n",
    "### Here is the x interval where I will do the integration. I am integrating regions in steps of \"step\",\n",
    "### because I will make a \"cumsum()\" in the integrals array for obtaining the values of the CDF.\n",
    "sigma = sigma_third\n",
    "n_sigma = 8                                    #Numbers of sigma for the interpolation to include.\n",
    "interval_division = 200000            #Number of divisions of the total region.\n",
    "step = 2*n_sigma*sigma/interval_division\n",
    "### I take care here for not taking negative values in the integration limits.\n",
    "if (x_0-n_sigma*sigma)>0:\n",
    "    x_comp = np.arange(x_0-n_sigma*sigma, x_0+n_sigma*sigma+step, step)\n",
    "else:\n",
    "    x_comp = np.arange(0, x_0+n_sigma*sigma+step, step)\n",
    "        \n",
    "### Now, I do the integration in each region and apply the \"cumsum()\".\n",
    "y_cdf = np.array([tup[0] for tup in [integrate.quad(exerc1_distrib3, a, b, args=(x_0, sigma))\n",
    "                                     for a, b in [(a, b) for a, b in zip(x_comp, x_comp[1:len(x_comp)])]]]\n",
    "                                     + [0]).cumsum()\n",
    "\n",
    "### Finally, I obtain the interpolated function. I exclude the last point because it usually leads to\n",
    "### problems (I think it has to do with the integration limits definition).\n",
    "scipy_exerc1_distrib3_cdf = interpolate.interp1d(x_comp[0:-1], y_cdf[0:-1], kind='linear')"
   ]
  },
  {
   "cell_type": "markdown",
   "id": "cf21679e",
   "metadata": {},
   "source": [
    "Third distribution inverse CDF."
   ]
  },
  {
   "cell_type": "code",
   "execution_count": 9,
   "id": "235f7137",
   "metadata": {},
   "outputs": [],
   "source": [
    "### Points for interpolation. Here I get x points that are inside n_sigma*sigma around the mean.\n",
    "n_sigma_third = 8\n",
    "step_third = 2*n_sigma_third*sigma_third/200000\n",
    "\n",
    "if x_0-n_sigma_third*sigma_third>0:\n",
    "    x_min_third = x_0-n_sigma_third*sigma_third\n",
    "    x_max_third = x_0+n_sigma_third*sigma_third\n",
    "else:\n",
    "    x_min_third = 0\n",
    "    x_max_third = x_0+n_sigma_third*sigma_third\n",
    "\n",
    "x_values_third = np.arange(x_min_third, x_max_third, step_third)\n",
    "cdf_values_third = scipy_exerc1_distrib3_cdf(x_values_third)\n",
    "\n",
    "### Defining the inverse CDF from a cubic interpolation using scipy.interpolate:\n",
    "scipy_exerc1_distrib3_inv_cdf = interpolate.interp1d(cdf_values_third, x_values_third, kind='linear')"
   ]
  },
  {
   "cell_type": "markdown",
   "id": "fb03ce30",
   "metadata": {},
   "source": [
    "**Defining the estimators.**"
   ]
  },
  {
   "cell_type": "code",
   "execution_count": 10,
   "id": "8299126e",
   "metadata": {},
   "outputs": [],
   "source": [
    "### First estimator (add up all and divide by N):\n",
    "def est_1(x):\n",
    "    est_1 = sum(x)/len(x)\n",
    "    return est_1\n",
    "\n",
    "### Second estimator (add up the first 10 numbers and divide by 10):\n",
    "def est_2(x):\n",
    "    est_2 = sum(x[:10])/10\n",
    "    return est_2\n",
    "\n",
    "### Third estimator (add up all and divide by N-1):\n",
    "def est_3(x):\n",
    "    est_3 = sum(x)/(len(x) - 1)\n",
    "    return est_3\n",
    "\n",
    "### Fourth estimator (the answer is always 1.8):\n",
    "def est_4(x):\n",
    "    return 1.8\n",
    "\n",
    "### Fifth estimator (multiply all and take the Nth root):\n",
    "def est_5(x):\n",
    "    if any(n < 0 for n in x) == True: # If a value is negative, we can not perform the geometric mean.\n",
    "        est_5 = np.nan\n",
    "    else:\n",
    "        est_5 = stats.mstats.gmean(x)\n",
    "    return est_5\n",
    "\n",
    "### Sixth estimator (the answer is the mode):\n",
    "def est_6(x):\n",
    "    est_6 = stats.mode(x)\n",
    "    return float(est_6[0])\n",
    "\n",
    "### Seventh estimator (add the min and the max and divide by 2):\n",
    "def est_7(x):\n",
    "    est_7 = (max(x) + min(x))/2\n",
    "    return est_7\n",
    "\n",
    "### Eighth estimator (add the second, fourth, sixth, etc., and divide by N/2 for N even, (N-1)/2 for N odd):\n",
    "def est_8(x):\n",
    "    N = len(x)\n",
    "    summation = sum(x[i] for i in range(1,len(x),2)) #The second element is x[1], the fourth is x[3]...\n",
    "    if N%2 == 0:\n",
    "        est_8 = summation/(N/2)\n",
    "    else:\n",
    "        est_8 = summation/((N-1)/2)\n",
    "    return est_8"
   ]
  },
  {
   "cell_type": "markdown",
   "id": "8e04032d",
   "metadata": {},
   "source": [
    "## Generating random numbers for each distribution and computing the mean."
   ]
  },
  {
   "cell_type": "code",
   "execution_count": 11,
   "id": "7ab0c58e",
   "metadata": {},
   "outputs": [],
   "source": [
    "rnd_quantity = 10000\n",
    "\n",
    "### Uniform random numbers ###\n",
    "np.random.seed(seed=1) # Seed\n",
    "x_unif = np.random.random_sample(size=rnd_quantity)\n",
    "\n",
    "### Gaussian random numbers ###\n",
    "np.random.seed(seed=2) # Seed\n",
    "unif_random_gauss = np.random.random_sample(size=rnd_quantity)\n",
    "\n",
    "x_gauss = gaussian_inv_cdf(unif_random_gauss)\n",
    "\n",
    "### Third distribution random numbers ###\n",
    "np.random.seed(seed=3) # Seed\n",
    "unif_random_third = np.random.random_sample(size=rnd_quantity)\n",
    "\n",
    "x_third = scipy_exerc1_distrib3_inv_cdf(unif_random_third)"
   ]
  },
  {
   "cell_type": "markdown",
   "id": "b1985f3c",
   "metadata": {},
   "source": [
    "Computing the mean."
   ]
  },
  {
   "cell_type": "code",
   "execution_count": 12,
   "id": "ec59c3b2",
   "metadata": {},
   "outputs": [],
   "source": [
    "all_func = [est_1, est_2, est_3, est_4, est_5, est_6, est_7, est_8]\n",
    "all_func_names = ['est_1', 'est_2', 'est_3', 'est_4', 'est_5', 'est_6', 'est_7', 'est_8']\n",
    "\n",
    "means_unif = []\n",
    "means_gauss = []\n",
    "means_third = []\n",
    "\n",
    "for fn in all_func:\n",
    "    means_unif.append(fn(x_unif))\n",
    "    means_gauss.append(fn(x_gauss))\n",
    "    means_third.append(fn(x_third))"
   ]
  },
  {
   "cell_type": "markdown",
   "id": "f52026aa",
   "metadata": {},
   "source": [
    "Saving in a dataframe for better visualization."
   ]
  },
  {
   "cell_type": "code",
   "execution_count": 13,
   "id": "e17b1140",
   "metadata": {},
   "outputs": [
    {
     "data": {
      "text/html": [
       "<div>\n",
       "<style scoped>\n",
       "    .dataframe tbody tr th:only-of-type {\n",
       "        vertical-align: middle;\n",
       "    }\n",
       "\n",
       "    .dataframe tbody tr th {\n",
       "        vertical-align: top;\n",
       "    }\n",
       "\n",
       "    .dataframe thead th {\n",
       "        text-align: right;\n",
       "    }\n",
       "</style>\n",
       "<table border=\"1\" class=\"dataframe\">\n",
       "  <thead>\n",
       "    <tr style=\"text-align: right;\">\n",
       "      <th></th>\n",
       "      <th>Estimator</th>\n",
       "      <th>Uniform</th>\n",
       "      <th>Gaussian</th>\n",
       "      <th>Third</th>\n",
       "    </tr>\n",
       "  </thead>\n",
       "  <tbody>\n",
       "    <tr>\n",
       "      <th>0</th>\n",
       "      <td>est_1</td>\n",
       "      <td>0.497996</td>\n",
       "      <td>-0.020156</td>\n",
       "      <td>10.433170</td>\n",
       "    </tr>\n",
       "    <tr>\n",
       "      <th>1</th>\n",
       "      <td>est_2</td>\n",
       "      <td>0.314629</td>\n",
       "      <td>-0.445286</td>\n",
       "      <td>9.925060</td>\n",
       "    </tr>\n",
       "    <tr>\n",
       "      <th>2</th>\n",
       "      <td>est_3</td>\n",
       "      <td>0.498046</td>\n",
       "      <td>-0.020158</td>\n",
       "      <td>10.434214</td>\n",
       "    </tr>\n",
       "    <tr>\n",
       "      <th>3</th>\n",
       "      <td>est_4</td>\n",
       "      <td>1.800000</td>\n",
       "      <td>1.800000</td>\n",
       "      <td>1.800000</td>\n",
       "    </tr>\n",
       "    <tr>\n",
       "      <th>4</th>\n",
       "      <td>est_5</td>\n",
       "      <td>0.366370</td>\n",
       "      <td>NaN</td>\n",
       "      <td>9.261889</td>\n",
       "    </tr>\n",
       "    <tr>\n",
       "      <th>5</th>\n",
       "      <td>est_6</td>\n",
       "      <td>0.000097</td>\n",
       "      <td>-3.802497</td>\n",
       "      <td>0.056664</td>\n",
       "    </tr>\n",
       "    <tr>\n",
       "      <th>6</th>\n",
       "      <td>est_7</td>\n",
       "      <td>0.499986</td>\n",
       "      <td>-0.014811</td>\n",
       "      <td>13.977645</td>\n",
       "    </tr>\n",
       "    <tr>\n",
       "      <th>7</th>\n",
       "      <td>est_8</td>\n",
       "      <td>0.499689</td>\n",
       "      <td>-0.009789</td>\n",
       "      <td>10.426581</td>\n",
       "    </tr>\n",
       "  </tbody>\n",
       "</table>\n",
       "</div>"
      ],
      "text/plain": [
       "  Estimator   Uniform  Gaussian      Third\n",
       "0     est_1  0.497996 -0.020156  10.433170\n",
       "1     est_2  0.314629 -0.445286   9.925060\n",
       "2     est_3  0.498046 -0.020158  10.434214\n",
       "3     est_4  1.800000  1.800000   1.800000\n",
       "4     est_5  0.366370       NaN   9.261889\n",
       "5     est_6  0.000097 -3.802497   0.056664\n",
       "6     est_7  0.499986 -0.014811  13.977645\n",
       "7     est_8  0.499689 -0.009789  10.426581"
      ]
     },
     "execution_count": 13,
     "metadata": {},
     "output_type": "execute_result"
    }
   ],
   "source": [
    "df_means = pd.DataFrame()\n",
    "\n",
    "### Defining new dataframes with the data.\n",
    "df_means_func = pd.DataFrame(data=all_func_names)\n",
    "df_means_unif = pd.DataFrame(data=means_unif)\n",
    "df_means_gauss = pd.DataFrame(data=means_gauss)\n",
    "df_means_third = pd.DataFrame(data=means_third)\n",
    "\n",
    "### Concatening these dataframes with the main one.\n",
    "df_means = pd.concat((df_means,df_means_func),axis=1)\n",
    "df_means = pd.concat((df_means,df_means_unif),axis=1)\n",
    "df_means = pd.concat((df_means,df_means_gauss),axis=1)\n",
    "df_means = pd.concat((df_means,df_means_third),axis=1)\n",
    "\n",
    "df_means.columns = ['Estimator','Uniform','Gaussian','Third']\n",
    "\n",
    "df_means"
   ]
  },
  {
   "cell_type": "markdown",
   "id": "dc08993c",
   "metadata": {},
   "source": [
    "## Checking Consistency"
   ]
  },
  {
   "cell_type": "markdown",
   "id": "50baf962",
   "metadata": {},
   "source": [
    "An estimator is consistent if it tends to the true value as the number of data values tends to infinity."
   ]
  },
  {
   "cell_type": "markdown",
   "id": "2a2b04b5",
   "metadata": {},
   "source": [
    "Let us generate random numbers for each distribution again, but this time I will generate a huge number."
   ]
  },
  {
   "cell_type": "code",
   "execution_count": 14,
   "id": "1f172471",
   "metadata": {},
   "outputs": [],
   "source": [
    "###########################################\n",
    "###### GENERATING THE RANDOM NUMBERS ######\n",
    "###########################################\n",
    "rnd_quantity = 1000000\n",
    "\n",
    "### Uniform random numbers ###\n",
    "np.random.seed(seed=1) # Seed\n",
    "x_unif = np.random.random_sample(size=rnd_quantity)\n",
    "\n",
    "### Gaussian random numbers ###\n",
    "np.random.seed(seed=2) # Seed\n",
    "unif_random_gauss = np.random.random_sample(size=rnd_quantity)\n",
    "\n",
    "x_gauss = gaussian_inv_cdf(unif_random_gauss)\n",
    "\n",
    "### Third distribution random numbers ###\n",
    "np.random.seed(seed=3) # Seed\n",
    "unif_random_third = np.random.random_sample(size=rnd_quantity)\n",
    "\n",
    "x_third = scipy_exerc1_distrib3_inv_cdf(unif_random_third)\n",
    "\n",
    "###########################################\n",
    "############# COMPUTING MEANS #############\n",
    "###########################################\n",
    "means_unif = []\n",
    "means_gauss = []\n",
    "means_third = []\n",
    "\n",
    "for fn in all_func:\n",
    "    means_unif.append(fn(x_unif))\n",
    "    means_gauss.append(fn(x_gauss))\n",
    "    means_third.append(fn(x_third))"
   ]
  },
  {
   "cell_type": "markdown",
   "id": "649496cf",
   "metadata": {},
   "source": [
    "Now, let us compute the expected value of the third distribution."
   ]
  },
  {
   "cell_type": "code",
   "execution_count": 15,
   "id": "9347992a",
   "metadata": {},
   "outputs": [],
   "source": [
    "def third_argument(x, x_0, sigma):\n",
    "    argument = x*(1/(np.sqrt(2*np.pi)*sigma))*(np.exp(-(x-x_0)**2/(2*sigma**2)) - np.exp(-(x+x_0)**2/(2*sigma**2)))*(1/special.erf(x_0/(np.sqrt(2)*sigma)))\n",
    "    return argument\n",
    "\n",
    "expected_third_array = integrate.quad(third_argument, 0, 300, args=(x_0, sigma))\n",
    "\n",
    "expected_third = expected_third_array[0]"
   ]
  },
  {
   "cell_type": "markdown",
   "id": "f2538f7a",
   "metadata": {},
   "source": [
    "Now, let us check consistency."
   ]
  },
  {
   "cell_type": "code",
   "execution_count": 16,
   "id": "f3184a19",
   "metadata": {},
   "outputs": [
    {
     "data": {
      "text/html": [
       "<div>\n",
       "<style scoped>\n",
       "    .dataframe tbody tr th:only-of-type {\n",
       "        vertical-align: middle;\n",
       "    }\n",
       "\n",
       "    .dataframe tbody tr th {\n",
       "        vertical-align: top;\n",
       "    }\n",
       "\n",
       "    .dataframe thead th {\n",
       "        text-align: right;\n",
       "    }\n",
       "</style>\n",
       "<table border=\"1\" class=\"dataframe\">\n",
       "  <thead>\n",
       "    <tr style=\"text-align: right;\">\n",
       "      <th></th>\n",
       "      <th>Estimator</th>\n",
       "      <th>Unif. Estimated-Expected</th>\n",
       "      <th>Gauss. Estimated-Expected</th>\n",
       "      <th>Third. Estimated-Expected</th>\n",
       "    </tr>\n",
       "  </thead>\n",
       "  <tbody>\n",
       "    <tr>\n",
       "      <th>0</th>\n",
       "      <td>est_1</td>\n",
       "      <td>-5.174587e-05</td>\n",
       "      <td>-0.001729</td>\n",
       "      <td>0.006569</td>\n",
       "    </tr>\n",
       "    <tr>\n",
       "      <th>1</th>\n",
       "      <td>est_2</td>\n",
       "      <td>-1.853707e-01</td>\n",
       "      <td>-0.445286</td>\n",
       "      <td>-0.551633</td>\n",
       "    </tr>\n",
       "    <tr>\n",
       "      <th>2</th>\n",
       "      <td>est_3</td>\n",
       "      <td>-5.124592e-05</td>\n",
       "      <td>-0.001729</td>\n",
       "      <td>0.006580</td>\n",
       "    </tr>\n",
       "    <tr>\n",
       "      <th>3</th>\n",
       "      <td>est_4</td>\n",
       "      <td>1.300000e+00</td>\n",
       "      <td>1.800000</td>\n",
       "      <td>-8.676692</td>\n",
       "    </tr>\n",
       "    <tr>\n",
       "      <th>4</th>\n",
       "      <td>est_5</td>\n",
       "      <td>-1.319559e-01</td>\n",
       "      <td>NaN</td>\n",
       "      <td>-1.201808</td>\n",
       "    </tr>\n",
       "    <tr>\n",
       "      <th>5</th>\n",
       "      <td>est_6</td>\n",
       "      <td>-4.999997e-01</td>\n",
       "      <td>-4.764294</td>\n",
       "      <td>-10.458588</td>\n",
       "    </tr>\n",
       "    <tr>\n",
       "      <th>6</th>\n",
       "      <td>est_7</td>\n",
       "      <td>-7.180147e-08</td>\n",
       "      <td>-0.092551</td>\n",
       "      <td>6.940189</td>\n",
       "    </tr>\n",
       "    <tr>\n",
       "      <th>7</th>\n",
       "      <td>est_8</td>\n",
       "      <td>8.290711e-05</td>\n",
       "      <td>-0.001069</td>\n",
       "      <td>0.003938</td>\n",
       "    </tr>\n",
       "  </tbody>\n",
       "</table>\n",
       "</div>"
      ],
      "text/plain": [
       "  Estimator  Unif. Estimated-Expected  Gauss. Estimated-Expected  \\\n",
       "0     est_1             -5.174587e-05                  -0.001729   \n",
       "1     est_2             -1.853707e-01                  -0.445286   \n",
       "2     est_3             -5.124592e-05                  -0.001729   \n",
       "3     est_4              1.300000e+00                   1.800000   \n",
       "4     est_5             -1.319559e-01                        NaN   \n",
       "5     est_6             -4.999997e-01                  -4.764294   \n",
       "6     est_7             -7.180147e-08                  -0.092551   \n",
       "7     est_8              8.290711e-05                  -0.001069   \n",
       "\n",
       "   Third. Estimated-Expected  \n",
       "0                   0.006569  \n",
       "1                  -0.551633  \n",
       "2                   0.006580  \n",
       "3                  -8.676692  \n",
       "4                  -1.201808  \n",
       "5                 -10.458588  \n",
       "6                   6.940189  \n",
       "7                   0.003938  "
      ]
     },
     "execution_count": 16,
     "metadata": {},
     "output_type": "execute_result"
    }
   ],
   "source": [
    "df_consistency = pd.DataFrame()\n",
    "\n",
    "df_consistency['Estimator'] = pd.Series(data=all_func_names)\n",
    "df_consistency['Unif. Estimated-Expected'] = pd.Series(data=((x - 0.5) for x in means_unif))\n",
    "df_consistency['Gauss. Estimated-Expected'] = pd.Series(data=((x - mu_gauss) for x in means_gauss))\n",
    "df_consistency['Third. Estimated-Expected'] = pd.Series(data=((x - expected_third) for x in means_third))\n",
    "\n",
    "df_consistency"
   ]
  },
  {
   "cell_type": "markdown",
   "id": "9b5d125a",
   "metadata": {},
   "source": [
    "As we can see, estimators 1, 3 and 8 are consistent."
   ]
  },
  {
   "cell_type": "markdown",
   "id": "b71545e0",
   "metadata": {},
   "source": [
    "## Checking Bias"
   ]
  },
  {
   "cell_type": "markdown",
   "id": "3148e56a",
   "metadata": {},
   "source": [
    "An estimator is unbiased if its expectation value is equal to the true value."
   ]
  },
  {
   "cell_type": "markdown",
   "id": "f5e7c32d",
   "metadata": {},
   "source": [
    "The Central Limit Theorem says, basically, that the distribution of some variable that is obtained from a sum of a lot of variables tends to a Gaussian distribution. \n",
    "\n",
    "https://people.richland.edu/james/lecture/m170/ch07-clt.html"
   ]
  },
  {
   "cell_type": "markdown",
   "id": "76c03322",
   "metadata": {},
   "source": [
    "So, we can estimate the expected value of some estimator, E(T), by taking the average value of T computed from all possible samples of a given size that may be drawn from the population. \n",
    "\n",
    "https://stats.stackexchange.com/questions/493239/how-to-calculate-the-expected-value-of-an-estimator\n",
    "\n",
    "https://sites.warnercnr.colostate.edu/gwhite/wp-content/uploads/sites/73/2017/04/ExpectedValue.pdf"
   ]
  },
  {
   "cell_type": "markdown",
   "id": "93f3e016",
   "metadata": {},
   "source": [
    "Let us do it. First, I will generate a lot of samples of some fixed size for each distribution and compute the estimators values in each sample."
   ]
  },
  {
   "cell_type": "code",
   "execution_count": 17,
   "id": "e0053202",
   "metadata": {},
   "outputs": [],
   "source": [
    "samples_quantity = 100000\n",
    "\n",
    "means_unif_all = []\n",
    "means_gauss_all = []\n",
    "means_third_all = []\n",
    "\n",
    "j=0\n",
    "for i in range(0, samples_quantity):  \n",
    "    ### Dicts for saving the means\n",
    "    means_unif = []\n",
    "    means_gauss = []\n",
    "    means_third = []\n",
    "    \n",
    "    ###########################################\n",
    "    ###### GENERATING THE RANDOM NUMBERS ######\n",
    "    ###########################################\n",
    "    ### Quantity of numbers by sample\n",
    "    rnd_quantity = 30\n",
    "    \n",
    "    ### Uniform random numbers ###\n",
    "    np.random.seed(seed=j)\n",
    "    x_unif = np.random.random_sample(size=rnd_quantity)\n",
    "    \n",
    "    ### Gaussian random numbers ###\n",
    "    np.random.seed(seed=j+1)\n",
    "    unif_random_gauss = np.random.random_sample(size=rnd_quantity)\n",
    "\n",
    "    x_gauss = gaussian_inv_cdf(unif_random_gauss)\n",
    "    \n",
    "    ### Third distribution random numbers ###\n",
    "    np.random.seed(seed=j+2)\n",
    "    unif_random_third = np.random.random_sample(size=rnd_quantity)\n",
    "    \n",
    "    x_third = scipy_exerc1_distrib3_inv_cdf(unif_random_third)\n",
    "    \n",
    "    ###########################################\n",
    "    ############# COMPUTING MEANS #############\n",
    "    ###########################################\n",
    "    for fn in all_func:\n",
    "        means_unif.append(fn(x_unif))\n",
    "        means_gauss.append(fn(x_gauss))\n",
    "        means_third.append(fn(x_third))\n",
    "        \n",
    "    means_unif_all.append(means_unif)\n",
    "    means_gauss_all.append(means_gauss)\n",
    "    means_third_all.append(means_third)\n",
    "    \n",
    "    j+=1"
   ]
  },
  {
   "cell_type": "markdown",
   "id": "51e1f6e3",
   "metadata": {},
   "source": [
    "Now, let us compute the estimators expected values by taking the mean of all the computed values in each sample by each estimator."
   ]
  },
  {
   "cell_type": "code",
   "execution_count": 18,
   "id": "b039f84e",
   "metadata": {},
   "outputs": [],
   "source": [
    "est_expected_values_unif = []\n",
    "est_expected_values_gauss = []\n",
    "est_expected_values_third = []\n",
    "\n",
    "j=0\n",
    "for k in range(0, len(means_unif_all[0])):\n",
    "    expec = sum([item[j] for item in means_unif_all])/samples_quantity\n",
    "    est_expected_values_unif.append(expec)    \n",
    "    j+=1\n",
    "\n",
    "j=0\n",
    "for k in range(0, len(means_gauss_all[0])):\n",
    "    expec = sum([item[j] for item in means_gauss_all])/samples_quantity\n",
    "    est_expected_values_gauss.append(expec)    \n",
    "    j+=1\n",
    "    \n",
    "j=0\n",
    "for k in range(0, len(means_third_all[0])):\n",
    "    expec = sum([item[j] for item in means_third_all])/samples_quantity\n",
    "    est_expected_values_third.append(expec)    \n",
    "    j+=1"
   ]
  },
  {
   "cell_type": "markdown",
   "id": "d738fb7e",
   "metadata": {},
   "source": [
    "Now, let us check Bias."
   ]
  },
  {
   "cell_type": "code",
   "execution_count": 19,
   "id": "c967a397",
   "metadata": {},
   "outputs": [
    {
     "data": {
      "text/html": [
       "<div>\n",
       "<style scoped>\n",
       "    .dataframe tbody tr th:only-of-type {\n",
       "        vertical-align: middle;\n",
       "    }\n",
       "\n",
       "    .dataframe tbody tr th {\n",
       "        vertical-align: top;\n",
       "    }\n",
       "\n",
       "    .dataframe thead th {\n",
       "        text-align: right;\n",
       "    }\n",
       "</style>\n",
       "<table border=\"1\" class=\"dataframe\">\n",
       "  <thead>\n",
       "    <tr style=\"text-align: right;\">\n",
       "      <th></th>\n",
       "      <th>Estimator</th>\n",
       "      <th>Unif. Est.Expec.-Expected</th>\n",
       "      <th>Gauss. Est.Expec.-Expected</th>\n",
       "      <th>Third. Est.Expec.-Expected</th>\n",
       "    </tr>\n",
       "  </thead>\n",
       "  <tbody>\n",
       "    <tr>\n",
       "      <th>0</th>\n",
       "      <td>est_1</td>\n",
       "      <td>-0.000096</td>\n",
       "      <td>-0.000242</td>\n",
       "      <td>-0.001598</td>\n",
       "    </tr>\n",
       "    <tr>\n",
       "      <th>1</th>\n",
       "      <td>est_2</td>\n",
       "      <td>0.000070</td>\n",
       "      <td>0.000276</td>\n",
       "      <td>0.001160</td>\n",
       "    </tr>\n",
       "    <tr>\n",
       "      <th>2</th>\n",
       "      <td>est_3</td>\n",
       "      <td>0.017142</td>\n",
       "      <td>-0.000251</td>\n",
       "      <td>0.359612</td>\n",
       "    </tr>\n",
       "    <tr>\n",
       "      <th>3</th>\n",
       "      <td>est_4</td>\n",
       "      <td>1.300000</td>\n",
       "      <td>1.800000</td>\n",
       "      <td>-8.676692</td>\n",
       "    </tr>\n",
       "    <tr>\n",
       "      <th>4</th>\n",
       "      <td>est_5</td>\n",
       "      <td>-0.126109</td>\n",
       "      <td>NaN</td>\n",
       "      <td>-1.163942</td>\n",
       "    </tr>\n",
       "    <tr>\n",
       "      <th>5</th>\n",
       "      <td>est_6</td>\n",
       "      <td>-0.467722</td>\n",
       "      <td>-2.042483</td>\n",
       "      <td>-8.133050</td>\n",
       "    </tr>\n",
       "    <tr>\n",
       "      <th>6</th>\n",
       "      <td>est_7</td>\n",
       "      <td>-0.000046</td>\n",
       "      <td>-0.000755</td>\n",
       "      <td>0.846939</td>\n",
       "    </tr>\n",
       "    <tr>\n",
       "      <th>7</th>\n",
       "      <td>est_8</td>\n",
       "      <td>-0.000164</td>\n",
       "      <td>-0.000608</td>\n",
       "      <td>-0.003579</td>\n",
       "    </tr>\n",
       "  </tbody>\n",
       "</table>\n",
       "</div>"
      ],
      "text/plain": [
       "  Estimator  Unif. Est.Expec.-Expected  Gauss. Est.Expec.-Expected  \\\n",
       "0     est_1                  -0.000096                   -0.000242   \n",
       "1     est_2                   0.000070                    0.000276   \n",
       "2     est_3                   0.017142                   -0.000251   \n",
       "3     est_4                   1.300000                    1.800000   \n",
       "4     est_5                  -0.126109                         NaN   \n",
       "5     est_6                  -0.467722                   -2.042483   \n",
       "6     est_7                  -0.000046                   -0.000755   \n",
       "7     est_8                  -0.000164                   -0.000608   \n",
       "\n",
       "   Third. Est.Expec.-Expected  \n",
       "0                   -0.001598  \n",
       "1                    0.001160  \n",
       "2                    0.359612  \n",
       "3                   -8.676692  \n",
       "4                   -1.163942  \n",
       "5                   -8.133050  \n",
       "6                    0.846939  \n",
       "7                   -0.003579  "
      ]
     },
     "execution_count": 19,
     "metadata": {},
     "output_type": "execute_result"
    }
   ],
   "source": [
    "df_bias = pd.DataFrame()\n",
    "\n",
    "df_bias['Estimator'] = pd.Series(data=all_func_names)\n",
    "df_bias['Unif. Est.Expec.-Expected'] = pd.Series(data=((x - 0.5) for x in est_expected_values_unif))\n",
    "df_bias['Gauss. Est.Expec.-Expected'] = pd.Series(data=((x - mu_gauss) for x in est_expected_values_gauss))\n",
    "df_bias['Third. Est.Expec.-Expected'] = pd.Series(data=((x - expected_third) for x in est_expected_values_third))\n",
    "\n",
    "df_bias"
   ]
  },
  {
   "cell_type": "markdown",
   "id": "8bed78dd",
   "metadata": {},
   "source": [
    "So, as it is possible to see, estimators 1, 2 and 8 seem to be unbiased for all the distributions."
   ]
  },
  {
   "cell_type": "markdown",
   "id": "8af0c56c",
   "metadata": {},
   "source": [
    "## Checking Efficiency"
   ]
  },
  {
   "cell_type": "markdown",
   "id": "42aead9e",
   "metadata": {},
   "source": [
    "An estimator is efficient if its variance is small."
   ]
  },
  {
   "cell_type": "markdown",
   "id": "56a7a491",
   "metadata": {},
   "source": [
    "The variance of an estimator can be defined as $var(\\hat{\\theta}) = E((\\hat{\\theta} - E(\\hat{\\theta}))^2)$. I will compute it using the same technique I used before, that is, computing the expectation value of this quantity as the mean of the computations over each sample."
   ]
  },
  {
   "cell_type": "code",
   "execution_count": 20,
   "id": "c3c0a34d",
   "metadata": {},
   "outputs": [],
   "source": [
    "est_var_unif = []\n",
    "est_var_gauss = []\n",
    "est_var_third = []\n",
    "\n",
    "j=0\n",
    "for k in range(0, len(means_unif_all[0])):\n",
    "    expec_val = est_expected_values_unif[j]           #Defining the expected value of the jth estimator.\n",
    "    new_list = [item[j] for item in means_unif_all]   #Getting the jth member of all samples.\n",
    "    new_list = [x - expec_val for x in new_list]      #Subtracting the jth member from the expec_val.\n",
    "    new_list = [x**2 for x in new_list]               #Squaring the previous result.\n",
    "\n",
    "    expec = sum(new_list)/samples_quantity            #Finally computing the variance.  \n",
    "    \n",
    "    est_var_unif.append(expec)\n",
    "    j+=1\n",
    "    \n",
    "j=0\n",
    "for k in range(0, len(means_gauss_all[0])):\n",
    "    expec_val = est_expected_values_gauss[j]           #Defining the expected value of the jth estimator.\n",
    "    new_list = [item[j] for item in means_gauss_all]   #Getting the jth member of all samples.\n",
    "    new_list = [x - expec_val for x in new_list]      #Subtracting the jth member from the expec_val.\n",
    "    new_list = [x**2 for x in new_list]               #Squaring the previous result.\n",
    "\n",
    "    expec = sum(new_list)/samples_quantity            #Finally computing the variance.  \n",
    "    \n",
    "    est_var_gauss.append(expec)\n",
    "    j+=1\n",
    "    \n",
    "j=0\n",
    "for k in range(0, len(means_third_all[0])):\n",
    "    expec_val = est_expected_values_third[j]           #Defining the expected value of the jth estimator.\n",
    "    new_list = [item[j] for item in means_third_all]   #Getting the jth member of all samples.\n",
    "    new_list = [x - expec_val for x in new_list]      #Subtracting the jth member from the expec_val.\n",
    "    new_list = [x**2 for x in new_list]               #Squaring the previous result.\n",
    "\n",
    "    expec = sum(new_list)/samples_quantity            #Finally computing the variance.  \n",
    "    \n",
    "    est_var_third.append(expec)\n",
    "    j+=1"
   ]
  },
  {
   "cell_type": "markdown",
   "id": "4628ec18",
   "metadata": {},
   "source": [
    "Now, let us check efficiency."
   ]
  },
  {
   "cell_type": "code",
   "execution_count": 21,
   "id": "a735647b",
   "metadata": {},
   "outputs": [
    {
     "data": {
      "text/html": [
       "<div>\n",
       "<style scoped>\n",
       "    .dataframe tbody tr th:only-of-type {\n",
       "        vertical-align: middle;\n",
       "    }\n",
       "\n",
       "    .dataframe tbody tr th {\n",
       "        vertical-align: top;\n",
       "    }\n",
       "\n",
       "    .dataframe thead th {\n",
       "        text-align: right;\n",
       "    }\n",
       "</style>\n",
       "<table border=\"1\" class=\"dataframe\">\n",
       "  <thead>\n",
       "    <tr style=\"text-align: right;\">\n",
       "      <th></th>\n",
       "      <th>Estimator</th>\n",
       "      <th>Unif. Var</th>\n",
       "      <th>Gauss. Var</th>\n",
       "      <th>Third Var</th>\n",
       "    </tr>\n",
       "  </thead>\n",
       "  <tbody>\n",
       "    <tr>\n",
       "      <th>0</th>\n",
       "      <td>est_1</td>\n",
       "      <td>2.795991e-03</td>\n",
       "      <td>3.357617e-02</td>\n",
       "      <td>7.018444e-01</td>\n",
       "    </tr>\n",
       "    <tr>\n",
       "      <th>1</th>\n",
       "      <td>est_2</td>\n",
       "      <td>8.330143e-03</td>\n",
       "      <td>9.991161e-02</td>\n",
       "      <td>2.088944e+00</td>\n",
       "    </tr>\n",
       "    <tr>\n",
       "      <th>2</th>\n",
       "      <td>est_3</td>\n",
       "      <td>2.992143e-03</td>\n",
       "      <td>3.593169e-02</td>\n",
       "      <td>7.510820e-01</td>\n",
       "    </tr>\n",
       "    <tr>\n",
       "      <th>3</th>\n",
       "      <td>est_4</td>\n",
       "      <td>2.784444e-24</td>\n",
       "      <td>2.784444e-24</td>\n",
       "      <td>2.784444e-24</td>\n",
       "    </tr>\n",
       "    <tr>\n",
       "      <th>4</th>\n",
       "      <td>est_5</td>\n",
       "      <td>4.453444e-03</td>\n",
       "      <td>NaN</td>\n",
       "      <td>8.667171e-01</td>\n",
       "    </tr>\n",
       "    <tr>\n",
       "      <th>5</th>\n",
       "      <td>est_6</td>\n",
       "      <td>9.842748e-04</td>\n",
       "      <td>2.453593e-01</td>\n",
       "      <td>1.399991e+00</td>\n",
       "    </tr>\n",
       "    <tr>\n",
       "      <th>6</th>\n",
       "      <td>est_7</td>\n",
       "      <td>5.075298e-04</td>\n",
       "      <td>1.255659e-01</td>\n",
       "      <td>1.901694e+00</td>\n",
       "    </tr>\n",
       "    <tr>\n",
       "      <th>7</th>\n",
       "      <td>est_8</td>\n",
       "      <td>5.538820e-03</td>\n",
       "      <td>6.640639e-02</td>\n",
       "      <td>1.387655e+00</td>\n",
       "    </tr>\n",
       "  </tbody>\n",
       "</table>\n",
       "</div>"
      ],
      "text/plain": [
       "  Estimator     Unif. Var    Gauss. Var     Third Var\n",
       "0     est_1  2.795991e-03  3.357617e-02  7.018444e-01\n",
       "1     est_2  8.330143e-03  9.991161e-02  2.088944e+00\n",
       "2     est_3  2.992143e-03  3.593169e-02  7.510820e-01\n",
       "3     est_4  2.784444e-24  2.784444e-24  2.784444e-24\n",
       "4     est_5  4.453444e-03           NaN  8.667171e-01\n",
       "5     est_6  9.842748e-04  2.453593e-01  1.399991e+00\n",
       "6     est_7  5.075298e-04  1.255659e-01  1.901694e+00\n",
       "7     est_8  5.538820e-03  6.640639e-02  1.387655e+00"
      ]
     },
     "execution_count": 21,
     "metadata": {},
     "output_type": "execute_result"
    }
   ],
   "source": [
    "df_eff = pd.DataFrame()\n",
    "\n",
    "df_eff['Estimator'] = pd.Series(data=all_func_names)\n",
    "df_eff['Unif. Var'] = pd.Series(data=est_var_unif)\n",
    "df_eff['Gauss. Var'] = pd.Series(data=est_var_gauss)\n",
    "df_eff['Third Var'] = pd.Series(data=est_var_third)\n",
    "\n",
    "df_eff"
   ]
  },
  {
   "cell_type": "markdown",
   "id": "bc995450",
   "metadata": {},
   "source": [
    "The most efficient estimators are written below, in ascending order.\n",
    "\n",
    "Uniform:  2, 8, 5, 3, 1, 6, 7, 4.\n",
    "\n",
    "Gaussian:    6, 7, 2, 8, 3, 1, 4.   (5 is not defined)\n",
    "\n",
    "Third:    2, 7, 6, 8, 5, 3, 1, 4."
   ]
  }
 ],
 "metadata": {
  "kernelspec": {
   "display_name": "Python 3 (ipykernel)",
   "language": "python",
   "name": "python3"
  },
  "language_info": {
   "codemirror_mode": {
    "name": "ipython",
    "version": 3
   },
   "file_extension": ".py",
   "mimetype": "text/x-python",
   "name": "python",
   "nbconvert_exporter": "python",
   "pygments_lexer": "ipython3",
   "version": "3.8.10"
  }
 },
 "nbformat": 4,
 "nbformat_minor": 5
}
