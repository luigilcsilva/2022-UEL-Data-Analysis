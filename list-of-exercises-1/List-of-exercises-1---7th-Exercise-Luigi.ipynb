{
 "cells": [
  {
   "cell_type": "markdown",
   "id": "f1afa14a",
   "metadata": {},
   "source": [
    "# List of Exercises 1 - Exercise 7"
   ]
  },
  {
   "cell_type": "markdown",
   "id": "9557c136",
   "metadata": {},
   "source": [
    "*Student: Luigi Lucas de Carvalho Silva / luigi.lcsilva@gmail.com*"
   ]
  },
  {
   "cell_type": "markdown",
   "id": "2a4c577f",
   "metadata": {},
   "source": [
    "First of all, let us import some useful packages."
   ]
  },
  {
   "cell_type": "code",
   "execution_count": 1,
   "id": "45343c36",
   "metadata": {},
   "outputs": [],
   "source": [
    "import numpy as np\n",
    "import matplotlib as mpl\n",
    "import matplotlib.pyplot as plt\n",
    "%matplotlib inline\n",
    "import pandas as pd\n",
    "import os\n",
    "import scipy.integrate as integrate\n",
    "import scipy.special as special\n",
    "import scipy.interpolate as interpolate\n",
    "import scipy.stats as stats"
   ]
  },
  {
   "cell_type": "markdown",
   "id": "16f3cc4a",
   "metadata": {},
   "source": [
    "The multivariate gaussian is given by $P(x,y) = \\frac{e^{-\\frac{1}{2} \\left ( \\frac{x-\\mu_x}{\\sigma_x} \\right )^2 - \\frac{1}{2} \\left ( \\frac{y-\\mu_y}{\\sigma_y} \\right )^2}}{2\\pi \\sigma_x \\sigma_y}$."
   ]
  },
  {
   "cell_type": "markdown",
   "id": "06a00a30",
   "metadata": {},
   "source": [
    "If we call $x'=\\frac{x-\\mu_x}{\\sigma_x}$ and $y'=\\frac{y-\\mu_y}{\\sigma_y}$, then we can define a new variable $\\chi$ as $\\chi^2 = x'^{2} + y'^{2}$. This is the equation of a circunference."
   ]
  },
  {
   "cell_type": "markdown",
   "id": "ca464530",
   "metadata": {},
   "source": [
    "We can also change the variables in the $x'y'$ plane to $x'=\\chi cos(\\theta)$ and $y'=\\chi sin(\\theta)$, and so $x=\\sigma_x \\chi cos(\\theta) + \\mu_x$ and $y=\\sigma_y \\chi sin(\\theta) + \\mu_y$. The determinant of the Jacobian, considering the original variables (x and y) and the new ones ($\\chi$ and $\\theta$) is $\\sigma_x \\sigma_y \\chi$."
   ]
  },
  {
   "cell_type": "markdown",
   "id": "26e1566f",
   "metadata": {},
   "source": [
    "We may also write $P(\\chi, \\theta) = \\frac{e^{-\\frac{1}{2}\\chi^2}}{2\\pi\\sigma_x\\sigma_y}$."
   ]
  },
  {
   "cell_type": "markdown",
   "id": "0e01d122",
   "metadata": {},
   "source": [
    "We must integrate this for $\\chi^2 \\leq n^2$, that is, from $\\theta = 0$ to $\\theta = 2\\pi$ and from $\\chi = 0$ to $\\chi = n$. Doing that, we get the expression $P(n\\sigma)\\equiv 1-e^{-\\frac{n^2}{2}}$."
   ]
  },
  {
   "cell_type": "markdown",
   "id": "edbf3266",
   "metadata": {},
   "source": [
    "So, let us compute this for some values of n."
   ]
  },
  {
   "cell_type": "code",
   "execution_count": 2,
   "id": "5e5627ff",
   "metadata": {},
   "outputs": [
    {
     "name": "stdout",
     "output_type": "stream",
     "text": [
      "P(1σ) = 0.3934693402873666\n",
      "P(2σ) = 0.8646647167633873\n",
      "P(3σ) = 0.9888910034617577\n"
     ]
    }
   ],
   "source": [
    "n_all = [1, 2, 3]\n",
    "\n",
    "for i in n_all:\n",
    "    P_nsig = 1 - np.exp(-i**2/2)\n",
    "    \n",
    "    print('P('+str(i)+'\\u03C3) = '+str(P_nsig))"
   ]
  },
  {
   "cell_type": "markdown",
   "id": "b6d56a5e",
   "metadata": {},
   "source": [
    "This is different from the probabilities of a single gaussian. For example, for a single gaussian, $P(1\\sigma)=68\\%$."
   ]
  }
 ],
 "metadata": {
  "kernelspec": {
   "display_name": "Python 3 (ipykernel)",
   "language": "python",
   "name": "python3"
  },
  "language_info": {
   "codemirror_mode": {
    "name": "ipython",
    "version": 3
   },
   "file_extension": ".py",
   "mimetype": "text/x-python",
   "name": "python",
   "nbconvert_exporter": "python",
   "pygments_lexer": "ipython3",
   "version": "3.8.10"
  }
 },
 "nbformat": 4,
 "nbformat_minor": 5
}
