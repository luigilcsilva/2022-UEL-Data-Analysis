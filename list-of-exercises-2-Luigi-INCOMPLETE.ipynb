{
 "cells": [
  {
   "cell_type": "markdown",
   "id": "773d8650",
   "metadata": {},
   "source": [
    "# List of Exercises 2"
   ]
  },
  {
   "cell_type": "markdown",
   "id": "14fd9844",
   "metadata": {},
   "source": [
    "*Student: Luigi Lucas de Carvalho Silva / luigi.lcsilva@gmail.com*"
   ]
  },
  {
   "cell_type": "markdown",
   "id": "512e4ed3",
   "metadata": {},
   "source": [
    "First of all, let us import some useful packages."
   ]
  },
  {
   "cell_type": "code",
   "execution_count": 1,
   "id": "9f8ec8b9",
   "metadata": {},
   "outputs": [],
   "source": [
    "### My packages.\n",
    "import numpy as np\n",
    "import matplotlib as mpl\n",
    "import matplotlib.pyplot as plt\n",
    "%matplotlib inline\n",
    "import pandas as pd\n",
    "import os\n",
    "import math\n",
    "import scipy.constants as constants\n",
    "import scipy.integrate as integrate\n",
    "import scipy.special as special\n",
    "import scipy.optimize as optimize\n",
    "\n",
    "### NumCosmo lines.\n",
    "try:\n",
    "  import gi\n",
    "  gi.require_version('NumCosmo', '1.0')\n",
    "  gi.require_version('NumCosmoMath', '1.0')\n",
    "except:\n",
    "  pass\n",
    "from gi.repository import NumCosmo as Nc\n",
    "from gi.repository import NumCosmoMath as Ncm\n",
    "\n",
    "#\n",
    "#  Initializing the library objects, this must be called before \n",
    "#  any other library function.\n",
    "#\n",
    "Ncm.cfg_init ()"
   ]
  },
  {
   "cell_type": "markdown",
   "id": "5c1df3d3",
   "metadata": {},
   "source": [
    "Now, let us get the data from the \"nc_data_snia_diag_legacy.obj\" file."
   ]
  },
  {
   "cell_type": "code",
   "execution_count": 2,
   "id": "179ecbda",
   "metadata": {},
   "outputs": [],
   "source": [
    "### I were doing like this, but the precision of the numbers is better the other way. \n",
    "#ser = Ncm.Serialize.new(0)\n",
    "#data = ser.from_file(\"/home/luigi/cosmology/NumCosmo/data/nc_data_snia_diag_legacy.obj\")\n",
    "### Getting the means from the data\n",
    "#means_obs =[data.y.get(i) for i in range(0, data.get_length())]\n",
    "\n",
    "### Getting the z's from the data\n",
    "#z_obs = [data.x.get(i) for i in range(0, data.get_length())]\n",
    "\n",
    "### Getting the sigmas from the data\n",
    "#sigma_obs =[data.sigma.get(i) for i in range(0, data.get_length())]\n",
    "\n",
    "means_obs = [34.117469999999997, 34.082340000000002, 34.070259999999998, 34.404829999999997, 34.128639999999997, 34.451230000000002, 34.318800000000003, 34.215560000000004, 34.161239999999999, 34.488590000000002, 34.575380000000003, 34.493369999999999, 34.940350000000002, 35.145130000000002, 35.249839999999999, 35.227229999999999, 34.93018, 35.191389999999998, 35.352319999999999, 35.34151, 35.56503, 35.14931, 35.994030000000002, 35.821800000000003, 35.558, 35.531300000000002, 35.78839, 35.836199999999998, 36.112879999999997, 36.28389, 36.275149999999996, 36.727640000000001, 36.382930000000002, 36.82694, 36.631860000000003, 36.793500000000002, 36.60604, 37.540019999999998, 37.603360000000002, 37.641710000000003, 37.464709999999997, 38.12106, 38.43656, 38.88447, 40.570869999999999, 40.682099999999998, 40.730200000000004, 40.998739999999998, 40.945410000000003, 41.25853, 41.322809999999997, 41.36636, 41.440710000000003, 41.473939999999999, 41.48489, 41.48789, 41.771929999999998, 41.775739999999999, 41.86542, 42.037439999999997, 42.030110000000001, 42.08907, 42.267910000000001, 42.17991, 42.428370000000001, 42.439010000000003, 42.643340000000002, 42.591529999999999, 42.824269999999999, 42.486130000000003, 42.461010000000002, 42.51052, 42.46461, 42.760820000000002, 42.880760000000002, 42.561369999999997, 42.514989999999997, 42.79513, 42.960189999999997, 43.02993, 42.745910000000002, 43.13241, 43.022689999999997, 43.397129999999997, 43.0456, 43.143700000000003, 43.022579999999998, 43.236460000000001, 43.17559, 43.208649999999999, 43.28689, 43.426960000000001, 43.169130000000003, 43.452640000000002, 43.353000000000002, 43.489539999999998, 43.691070000000003, 43.94979, 43.651919999999997, 43.531529999999997, 43.543680000000002, 44.41386, 43.474789999999999, 43.870280000000001, 44.094340000000003, 43.707729999999998, 44.258890000000001, 44.552239999999998, 44.429130000000001, 43.506959999999999, 43.953150000000001, 43.62209, 43.999270000000003, 43.940669999999997, 44.672240000000002]\n",
    "z_obs = [0.015429999999999999, 0.015879999999999998, 0.016150000000000001, 0.016310000000000002, 0.016449999999999999, 0.01661, 0.016830000000000001, 0.01721, 0.017340000000000001, 0.017649999999999999, 0.01814, 0.01983, 0.021839999999999998, 0.023230000000000001, 0.02351, 0.024160000000000001, 0.024559999999999998, 0.024819999999999998, 0.025940000000000001, 0.02605, 0.02632, 0.027900000000000001, 0.029610000000000001, 0.030130000000000001, 0.03057, 0.030630000000000001, 0.031559999999999998, 0.034799999999999998, 0.036490000000000002, 0.039280000000000002, 0.042909999999999997, 0.04512, 0.048759999999999998, 0.050099999999999999, 0.050220000000000001, 0.052979999999999999, 0.053710000000000001, 0.06336, 0.070760000000000003, 0.074789999999999995, 0.078850000000000003, 0.087760000000000005, 0.10083, 0.12470000000000001, 0.24859999999999999, 0.26300000000000001, 0.28499999999999998, 0.29120000000000001, 0.33100000000000002, 0.33729999999999999, 0.3402, 0.34599999999999997, 0.35699999999999998, 0.35780000000000001, 0.36899999999999999, 0.37090000000000001, 0.41499999999999998, 0.42999999999999999, 0.44900000000000001, 0.45100000000000001, 0.4607, 0.4627, 0.46999999999999997, 0.496, 0.50429999999999997, 0.52100000000000002, 0.52600000000000002, 0.53200000000000003, 0.54800000000000004, 0.55000000000000004, 0.55159999999999998, 0.55700000000000005, 0.57099999999999995, 0.58099999999999996, 0.58169999999999999, 0.59199999999999997, 0.60399999999999998, 0.60999999999999999, 0.61299999999999999, 0.62, 0.62680000000000002, 0.63300000000000001, 0.64300000000000002, 0.67900000000000005, 0.68799999999999994, 0.69099999999999995, 0.69499999999999995, 0.70699999999999996, 0.70999999999999996, 0.72099999999999997, 0.72999999999999998, 0.74099999999999999, 0.752, 0.75600000000000001, 0.79100000000000004, 0.80000000000000004, 0.81000000000000005, 0.81100000000000005, 0.81699999999999995, 0.81799999999999995, 0.82179999999999997, 0.82999999999999996, 0.83999999999999997, 0.86799999999999999, 0.87, 0.90500000000000003, 0.91000000000000003, 0.92710000000000004, 0.93000000000000005, 0.94899999999999995, 0.94999999999999996, 0.95999999999999996, 0.96099999999999997, 0.98299999999999998, 1.01]\n",
    "sigma_obs = [0.19292000000000001, 0.19033, 0.19617999999999999, 0.18698999999999999, 0.18648000000000001, 0.18865000000000001, 0.18634999999999999, 0.18315999999999999, 0.18215000000000001, 0.18018999999999999, 0.17867, 0.17172999999999999, 0.16571, 0.16145999999999999, 0.16600999999999999, 0.16137000000000001, 0.15934000000000001, 0.15994, 0.16148999999999999, 0.15581999999999999, 0.19253999999999999, 0.15323999999999999, 0.15362000000000001, 0.24753, 0.15085999999999999, 0.15947, 0.15057999999999999, 0.14807999999999999, 0.14657999999999999, 0.14294999999999999, 0.14374000000000001, 0.14305999999999999, 0.14054, 0.14433000000000001, 0.13855999999999999, 0.13921, 0.14169999999999999, 0.13900000000000001, 0.1394, 0.14005999999999999, 0.13743, 0.13893, 0.14224999999999999, 0.14007, 0.13249, 0.13172, 0.13195000000000001, 0.13503999999999999, 0.13167999999999999, 0.13138, 0.13161999999999999, 0.13266, 0.13228999999999999, 0.13173000000000001, 0.13203000000000001, 0.13446, 0.13369, 0.13657, 0.13833000000000001, 0.13447000000000001, 0.14319000000000001, 0.13549, 0.13478999999999999, 0.13639999999999999, 0.13677, 0.14183999999999999, 0.14221, 0.15515000000000001, 0.15376000000000001, 0.14235999999999999, 0.13555, 0.13421, 0.14868999999999999, 0.13919000000000001, 0.14176, 0.15886, 0.13417999999999999, 0.13671, 0.14465, 0.14410000000000001, 0.13569000000000001, 0.14562, 0.14354, 0.15769, 0.14005000000000001, 0.18895999999999999, 0.15690000000000001, 0.18373, 0.15179999999999999, 0.16864999999999999, 0.15110000000000001, 0.17566000000000001, 0.15923999999999999, 0.14326, 0.15151000000000001, 0.15898000000000001, 0.32857999999999998, 0.29466999999999999, 0.28556999999999999, 0.33106999999999998, 0.25391999999999998, 0.37047000000000002, 0.22628999999999999, 0.36829000000000001, 0.32807999999999998, 0.28938999999999998, 0.36984, 0.40148, 0.44995000000000002, 0.30181999999999998, 0.29831000000000002, 0.26844000000000001, 0.31807000000000002, 0.51326000000000005, 0.54895000000000005]"
   ]
  },
  {
   "cell_type": "markdown",
   "id": "d3b87c50",
   "metadata": {},
   "source": [
    "Now, let us define some functions."
   ]
  },
  {
   "cell_type": "code",
   "execution_count": 3,
   "id": "bcb2f782",
   "metadata": {},
   "outputs": [],
   "source": [
    "c_km_s = constants.c/1000\n",
    "\n",
    "#############################################################################\n",
    "def norm_Hubble_func_inverse(z, Omg_lamb_0, Omg_k_0, Omg_m_0, Omg_r_0):\n",
    "    if (type(z)==float or type(z)==int or type(z)==np.float64):\n",
    "        norm_Hubble_func_inverse = np.sqrt(1/(Omg_lamb_0 + Omg_k_0*(1+z)**2 + Omg_m_0*(1+z)**3 \n",
    "                                                + Omg_r_0*(1+z)**4))\n",
    "    else:\n",
    "        norm_Hubble_func_inverse = [np.sqrt(1/(Omg_lamb_0 + Omg_k_0*(1+z)**2 + Omg_m_0*(1+z)**3 \n",
    "                                                 + Omg_r_0*(1+z)**4)) for z in z]\n",
    "    return norm_Hubble_func_inverse\n",
    "\n",
    "#############################################################################\n",
    "def comov_dist_NO_DIM(z, Omg_lamb_0, Omg_k_0, Omg_m_0, Omg_r_0):\n",
    "    comov_dist_NO_DIM = [tup[0] for tup in [integrate.quad(norm_Hubble_func_inverse, 0, z, \n",
    "                                                                        args=(Omg_lamb_0, Omg_k_0, Omg_m_0, \n",
    "                                                                              Omg_r_0)) for z in z]]\n",
    "    return comov_dist_NO_DIM\n",
    "\n",
    "#############################################################################\n",
    "def comov_temp_dist(z, Omg_lamb_0, Omg_k_0, Omg_m_0, Omg_r_0):\n",
    "    arr1 = comov_dist_NO_DIM(z,Omg_lamb_0,Omg_k_0,Omg_m_0,Omg_r_0)\n",
    "    if Omg_k_0==0:\n",
    "        comov_temp_dist = [arr1[i] for i in range(0, len(z))]\n",
    "    else:\n",
    "        comov_temp_dist = [np.sinh(np.sqrt(Omg_k_0)*arr1[i])/np.sqrt(Omg_k_0) for i in range(0, len(z))] \n",
    "    return comov_temp_dist\n",
    "\n",
    "#############################################################################\n",
    "def comov_lum_dist(z, Omg_lamb_0, Omg_k_0, Omg_m_0, Omg_r_0):\n",
    "    arr1 = comov_temp_dist(z, Omg_lamb_0, Omg_k_0, Omg_m_0, Omg_r_0)\n",
    "    comov_lum_dist = [(arr1[i]*(1+z[i])) for i in range(0, len(z))]\n",
    "    return comov_lum_dist\n",
    "\n",
    "#############################################################################\n",
    "def modular_dist(z, Omg_lamb_0, Omg_k_0, Omg_m_0, Omg_r_0, H_0):\n",
    "    arr1 = comov_lum_dist(z, Omg_lamb_0, Omg_k_0, Omg_m_0, Omg_r_0)\n",
    "    modular_dist = [(5*np.log10(arr1[i]) + 25 + 5*np.log10(c_km_s/H_0)) for i in range(0, len(z))]\n",
    "    return modular_dist"
   ]
  },
  {
   "cell_type": "markdown",
   "id": "1845e5b4",
   "metadata": {},
   "source": [
    "Testing the function."
   ]
  },
  {
   "cell_type": "code",
   "execution_count": 4,
   "id": "f0f373e3",
   "metadata": {},
   "outputs": [
    {
     "name": "stdout",
     "output_type": "stream",
     "text": [
      "[38.395126600557, 40.03305278240683, 41.02921788279156]\n"
     ]
    }
   ],
   "source": [
    "z_test = [0.1, 0.2, 0.3]\n",
    "H_0_test = 67.37\n",
    "Omg_lamb_0_test = 0.68\n",
    "Omg_k_0_test = 0\n",
    "Omg_m_0_test = 0.32\n",
    "Omg_r_0_test = 0\n",
    "\n",
    "print(modular_dist(z_test, Omg_lamb_0_test, Omg_k_0_test, Omg_m_0_test, Omg_r_0_test, H_0_test))"
   ]
  },
  {
   "cell_type": "markdown",
   "id": "1706e89b",
   "metadata": {},
   "source": [
    "# Item a)"
   ]
  },
  {
   "cell_type": "markdown",
   "id": "ee987ef8",
   "metadata": {},
   "source": [
    "## Best Fit"
   ]
  },
  {
   "cell_type": "markdown",
   "id": "7fee0194",
   "metadata": {},
   "source": [
    "Let us find the best fit with $\\Omega_{k0}=0$ and $\\Omega_{r0}=0$. "
   ]
  },
  {
   "cell_type": "code",
   "execution_count": 5,
   "id": "2ccf425c",
   "metadata": {},
   "outputs": [],
   "source": [
    "#############################################################################\n",
    "mu_obs_a = means_obs\n",
    "sigma_obs_a = sigma_obs\n",
    "z_obs_a = z_obs\n",
    "\n",
    "def minus_2_ln_likelihood_0(params):\n",
    "    H_0, Omg_lamb_0 = params\n",
    "    Omg_m_0 = 1 - Omg_lamb_0\n",
    "    mod_dist = modular_dist(z_obs_a, Omg_lamb_0, 0, Omg_m_0, 0, H_0)\n",
    "      \n",
    "    result = sum([(mod_dist[i] - mu_obs_a[i])**2/sigma_obs_a[i]**2 for i in range(0, len(z_obs_a))])\n",
    "    \n",
    "    return result\n",
    "#############################################################################"
   ]
  },
  {
   "cell_type": "code",
   "execution_count": 6,
   "id": "52f5101b",
   "metadata": {},
   "outputs": [
    {
     "name": "stdout",
     "output_type": "stream",
     "text": [
      "[70.01523352  0.7375684   0.2624316 ]\n"
     ]
    }
   ],
   "source": [
    "initial_guess = [60, 0.60]\n",
    "\n",
    "result = optimize.minimize(minus_2_ln_likelihood_0, initial_guess, method = 'Nelder-Mead')\n",
    "if result.success:\n",
    "    fitted_params = result.x\n",
    "else:\n",
    "    raise ValueError(result.message)\n",
    "\n",
    "all_param = np.append(fitted_params, [1-fitted_params[1]])\n",
    "print(all_param)"
   ]
  },
  {
   "cell_type": "markdown",
   "id": "d3d5a0df",
   "metadata": {},
   "source": [
    "## Fisher Matrix"
   ]
  },
  {
   "cell_type": "markdown",
   "id": "72256fb2",
   "metadata": {},
   "source": [
    "Now, let us compute the Fisher Matrix."
   ]
  },
  {
   "cell_type": "code",
   "execution_count": 7,
   "id": "ea11d206",
   "metadata": {},
   "outputs": [],
   "source": [
    "### Auxiliary functions\n",
    "def norm_Hubble_cubic(z, Omg_lamb_0, Omg_k_0, Omg_m_0, Omg_r_0):\n",
    "    if (type(z)==float or type(z)==int or type(z)==np.float64):\n",
    "        norm_Hubble_cubic = (np.sqrt(1/(Omg_lamb_0 + Omg_k_0*(1+z)**2 + Omg_m_0*(1+z)**3 \n",
    "                                                + Omg_r_0*(1+z)**4))**3)\n",
    "    else:\n",
    "        norm_Hubble_cubic= [np.sqrt(1/(Omg_lamb_0 + Omg_k_0*(1+z)**2 + Omg_m_0*(1+z)**3 \n",
    "                                                 + Omg_r_0*(1+z)**4))**3 for z in z]\n",
    "    return norm_Hubble_cubic\n",
    "\n",
    "def norm_Hubble_cubic_1plusZcube(z, Omg_lamb_0, Omg_k_0, Omg_m_0, Omg_r_0):\n",
    "    if (type(z)==float or type(z)==int or type(z)==np.float64):\n",
    "        norm_Hubble_cubic_1plusZcube = ((np.sqrt(1/(Omg_lamb_0 + Omg_k_0*(1+z)**2 + Omg_m_0*(1+z)**3 \n",
    "                                                + Omg_r_0*(1+z)**4))**3)*(1+z)**3)\n",
    "    else:\n",
    "        norm_Hubble_cubic_1plusZcube = [np.sqrt(1/(Omg_lamb_0 + Omg_k_0*(1+z)**2 + Omg_m_0*(1+z)**3 \n",
    "                                                 + Omg_r_0*(1+z)**4))**3*(1+z)**3 for z in z]\n",
    "    return norm_Hubble_cubic_1plusZcube\n",
    "\n",
    "### Derivatives\n",
    "\n",
    "def mu_H0_deriv_A(z, Omg_lamb_0, Omg_k_0, Omg_m_0, Omg_r_0, H_0):\n",
    "    result = [-5/(np.log(10)*H_0) for i in range(0, len(z))]\n",
    "    \n",
    "    return result\n",
    "\n",
    "def mu_lamb_0_A(z, Omg_lamb_0, Omg_k_0, Omg_m_0, Omg_r_0, H_0):\n",
    "    comov_temp = comov_temp_dist(z, Omg_lamb_0, Omg_k_0, Omg_m_0, Omg_r_0)\n",
    "    integral1 = [tup[0] for tup in [integrate.quad(norm_Hubble_cubic, 0, z, args=(Omg_lamb_0, Omg_k_0, Omg_m_0, \n",
    "                                                                                 Omg_r_0)) for z in z]]\n",
    "    \n",
    "    result = [(-5/(np.log(10)*comov_temp[i]))*(1/2)*(integral1[i]) for i in range(0, len(z))]\n",
    "    \n",
    "    return result\n",
    "\n",
    "def mu_m_0_A(z, Omg_lamb_0, Omg_k_0, Omg_m_0, Omg_r_0, H_0):\n",
    "    comov_temp = comov_temp_dist(z, Omg_lamb_0, Omg_k_0, Omg_m_0, Omg_r_0)\n",
    "    integral2 = [tup[0] for tup in [integrate.quad(norm_Hubble_cubic_1plusZcube, 0, z, args=(Omg_lamb_0, Omg_k_0,\n",
    "                                                                                            Omg_m_0, Omg_r_0)) \n",
    "                                                                                             for z in z]]\n",
    "    \n",
    "    result = [(-5/(np.log(10)*comov_temp[i]))*(1/2)*(integral2[i]) for i in range(0, len(z))]\n",
    "\n",
    "    return result"
   ]
  },
  {
   "cell_type": "code",
   "execution_count": 8,
   "id": "55b8aa49",
   "metadata": {},
   "outputs": [],
   "source": [
    "no = 2\n",
    "\n",
    "### H_0 terms.\n",
    "def cross_H0_H0_A(z, Omg_lamb_0, Omg_k_0, Omg_m_0, Omg_r_0, H_0):\n",
    "    H0deriv = mu_H0_deriv_A(z, Omg_lamb_0, Omg_k_0, Omg_m_0, Omg_r_0, H_0)\n",
    "    \n",
    "    result = no*sum([H0deriv[i]**2/sigma_obs_a[i]**2 for i in range(0, len(z))])\n",
    "    \n",
    "    return result\n",
    "\n",
    "def cross_H0_lamb_A(z, Omg_lamb_0, Omg_k_0, Omg_m_0, Omg_r_0, H_0):\n",
    "    H0deriv = mu_H0_deriv_A(z, Omg_lamb_0, Omg_k_0, Omg_m_0, Omg_r_0, H_0)\n",
    "    lambderiv = mu_lamb_0_A(z, Omg_lamb_0, Omg_k_0, Omg_m_0, Omg_r_0, H_0)\n",
    "    \n",
    "    result = no*sum([H0deriv[i]*lambderiv[i]/sigma_obs_a[i]**2 for i in range(0, len(z))])\n",
    "    \n",
    "    return result    \n",
    "\n",
    "def cross_H0_m_A(z, Omg_lamb_0, Omg_k_0, Omg_m_0, Omg_r_0, H_0):\n",
    "    H0deriv = mu_H0_deriv_A(z, Omg_lamb_0, Omg_k_0, Omg_m_0, Omg_r_0, H_0)\n",
    "    mderiv = mu_m_0_A(z, Omg_lamb_0, Omg_k_0, Omg_m_0, Omg_r_0, H_0)\n",
    "    \n",
    "    result = no*sum([H0deriv[i]*mderiv[i]/sigma_obs_a[i]**2 for i in range(0, len(z))])\n",
    "    \n",
    "    return result\n",
    "\n",
    "### Lamb_0 terms.\n",
    "def cross_lamb_H0_A(z, Omg_lamb_0, Omg_k_0, Omg_m_0, Omg_r_0, H_0):\n",
    "    H0deriv = mu_H0_deriv_A(z, Omg_lamb_0, Omg_k_0, Omg_m_0, Omg_r_0, H_0)\n",
    "    lambderiv = mu_lamb_0_A(z, Omg_lamb_0, Omg_k_0, Omg_m_0, Omg_r_0, H_0)\n",
    "    \n",
    "    result = no*sum([H0deriv[i]*lambderiv[i]/sigma_obs_a[i]**2 for i in range(0, len(z))])\n",
    "    \n",
    "    return result\n",
    "    \n",
    "def cross_lamb_lamb_A(z, Omg_lamb_0, Omg_k_0, Omg_m_0, Omg_r_0, H_0):\n",
    "    lambderiv = mu_lamb_0_A(z, Omg_lamb_0, Omg_k_0, Omg_m_0, Omg_r_0, H_0)\n",
    "    \n",
    "    result = no*sum([lambderiv[i]**2/sigma_obs_a[i]**2 for i in range(0, len(z))])\n",
    "    \n",
    "    return result\n",
    "\n",
    "def cross_lamb_m_A(z, Omg_lamb_0, Omg_k_0, Omg_m_0, Omg_r_0, H_0):\n",
    "    lambderiv = mu_lamb_0_A(z, Omg_lamb_0, Omg_k_0, Omg_m_0, Omg_r_0, H_0)\n",
    "    mderiv = mu_m_0_A(z, Omg_lamb_0, Omg_k_0, Omg_m_0, Omg_r_0, H_0)\n",
    "    \n",
    "    result = no*sum([mderiv[i]*lambderiv[i]/sigma_obs_a[i]**2 for i in range(0, len(z))])\n",
    "    \n",
    "    return result\n",
    "\n",
    "### m terms.\n",
    "def cross_m_H0_A(z, Omg_lamb_0, Omg_k_0, Omg_m_0, Omg_r_0, H_0):\n",
    "    H0deriv = mu_H0_deriv_A(z, Omg_lamb_0, Omg_k_0, Omg_m_0, Omg_r_0, H_0)\n",
    "    mderiv = mu_m_0_A(z, Omg_lamb_0, Omg_k_0, Omg_m_0, Omg_r_0, H_0)\n",
    "    \n",
    "    result = no*sum([H0deriv[i]*mderiv[i]/sigma_obs_a[i]**2 for i in range(0, len(z))])\n",
    "    \n",
    "    return result\n",
    "\n",
    "def cross_m_lamb_A(z, Omg_lamb_0, Omg_k_0, Omg_m_0, Omg_r_0, H_0):\n",
    "    lambderiv = mu_lamb_0_A(z, Omg_lamb_0, Omg_k_0, Omg_m_0, Omg_r_0, H_0)\n",
    "    mderiv = mu_m_0_A(z, Omg_lamb_0, Omg_k_0, Omg_m_0, Omg_r_0, H_0)\n",
    "    \n",
    "    result = no*sum([mderiv[i]*lambderiv[i]/sigma_obs_a[i]**2 for i in range(0, len(z))])\n",
    "    \n",
    "    return result\n",
    "\n",
    "def cross_m_m_A(z, Omg_lamb_0, Omg_k_0, Omg_m_0, Omg_r_0, H_0):\n",
    "    mderiv = mu_m_0_A(z, Omg_lamb_0, Omg_k_0, Omg_m_0, Omg_r_0, H_0)\n",
    "    result = no*sum([mderiv[i]**2/sigma_obs_a[i]**2 for i in range(0, len(z))])\n",
    "    \n",
    "    return result"
   ]
  },
  {
   "cell_type": "code",
   "execution_count": 9,
   "id": "3808ca3c",
   "metadata": {},
   "outputs": [
    {
     "data": {
      "text/plain": [
       "[[8.767202443868493, 263.16079797871674, 411.8136601675268],\n",
       " [263.16079797871674, 8003.996874356866, 12066.58647395102],\n",
       " [411.8136601675268, 12066.58647395102, 20171.773963562584]]"
      ]
     },
     "execution_count": 9,
     "metadata": {},
     "output_type": "execute_result"
    }
   ],
   "source": [
    "### Meus\n",
    "#z = z_obs_a\n",
    "#Omg_lamb_0 = 0.7375684\n",
    "#Omg_k_0 = 0\n",
    "#Omg_m_0 = 0.2624316\n",
    "#Omg_r_0 = 0\n",
    "#H_0 = 70.01523352\n",
    "\n",
    "### Eduardo\n",
    "z = z_obs_a\n",
    "Omg_lamb_0 = 0.7456148337377471\n",
    "Omg_k_0 = 0\n",
    "Omg_m_0 = 0.2652961615539559\n",
    "Omg_r_0 = 0\n",
    "H_0 = 69.68452705520892\n",
    "\n",
    "fisher_matrix = [[cross_H0_H0_A(z, Omg_lamb_0, Omg_k_0, Omg_m_0, Omg_r_0, H_0), cross_H0_lamb_A(z, Omg_lamb_0, Omg_k_0, Omg_m_0, Omg_r_0, H_0), cross_H0_m_A(z, Omg_lamb_0, Omg_k_0, Omg_m_0, Omg_r_0, H_0)],\n",
    "                 [cross_lamb_H0_A(z, Omg_lamb_0, Omg_k_0, Omg_m_0, Omg_r_0, H_0), cross_lamb_lamb_A(z, Omg_lamb_0, Omg_k_0, Omg_m_0, Omg_r_0, H_0), cross_lamb_m_A(z, Omg_lamb_0, Omg_k_0, Omg_m_0, Omg_r_0, H_0)],\n",
    "                 [cross_m_H0_A(z, Omg_lamb_0, Omg_k_0, Omg_m_0, Omg_r_0, H_0), cross_m_lamb_A(z, Omg_lamb_0, Omg_k_0, Omg_m_0, Omg_r_0, H_0), cross_m_m_A(z, Omg_lamb_0, Omg_k_0, Omg_m_0, Omg_r_0, H_0)]]\n",
    "\n",
    "fisher_matrix"
   ]
  }
 ],
 "metadata": {
  "kernelspec": {
   "display_name": "Python 3 (ipykernel)",
   "language": "python",
   "name": "python3"
  },
  "language_info": {
   "codemirror_mode": {
    "name": "ipython",
    "version": 3
   },
   "file_extension": ".py",
   "mimetype": "text/x-python",
   "name": "python",
   "nbconvert_exporter": "python",
   "pygments_lexer": "ipython3",
   "version": "3.8.10"
  }
 },
 "nbformat": 4,
 "nbformat_minor": 5
}
